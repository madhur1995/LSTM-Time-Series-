{
  "nbformat": 4,
  "nbformat_minor": 0,
  "metadata": {
    "colab": {
      "name": "Stock Market Prediction And Forecasting Using Stacked LSTM.ipynb",
      "provenance": []
    },
    "kernelspec": {
      "name": "python3",
      "display_name": "Python 3"
    },
    "language_info": {
      "name": "python"
    }
  },
  "cells": [
    {
      "cell_type": "code",
      "execution_count": 1,
      "metadata": {
        "id": "jlgnIBhGfNWY"
      },
      "outputs": [],
      "source": [
        "import pandas_datareader as pdr\n",
        "key=\"0ba9363401b7f9f2b68635fd292b29ff5bf19910\""
      ]
    },
    {
      "cell_type": "code",
      "source": [
        "df = pdr.get_data_tiingo('AAPL', api_key=key)"
      ],
      "metadata": {
        "id": "P-0VsoT6fab-"
      },
      "execution_count": 2,
      "outputs": []
    },
    {
      "cell_type": "code",
      "source": [
        "df.to_csv('AAPL.csv')"
      ],
      "metadata": {
        "id": "Te3DsDuGfdki"
      },
      "execution_count": 3,
      "outputs": []
    },
    {
      "cell_type": "code",
      "source": [
        "df.head()"
      ],
      "metadata": {
        "colab": {
          "base_uri": "https://localhost:8080/",
          "height": 281
        },
        "id": "zb6U0n_ufuV-",
        "outputId": "de320a74-79c1-4346-ae87-ec376fc2ba4c"
      },
      "execution_count": 4,
      "outputs": [
        {
          "output_type": "execute_result",
          "data": {
            "text/html": [
              "\n",
              "  <div id=\"df-65c68ba3-fcfb-4fea-98e7-efedce3c7150\">\n",
              "    <div class=\"colab-df-container\">\n",
              "      <div>\n",
              "<style scoped>\n",
              "    .dataframe tbody tr th:only-of-type {\n",
              "        vertical-align: middle;\n",
              "    }\n",
              "\n",
              "    .dataframe tbody tr th {\n",
              "        vertical-align: top;\n",
              "    }\n",
              "\n",
              "    .dataframe thead th {\n",
              "        text-align: right;\n",
              "    }\n",
              "</style>\n",
              "<table border=\"1\" class=\"dataframe\">\n",
              "  <thead>\n",
              "    <tr style=\"text-align: right;\">\n",
              "      <th></th>\n",
              "      <th></th>\n",
              "      <th>close</th>\n",
              "      <th>high</th>\n",
              "      <th>low</th>\n",
              "      <th>open</th>\n",
              "      <th>volume</th>\n",
              "      <th>adjClose</th>\n",
              "      <th>adjHigh</th>\n",
              "      <th>adjLow</th>\n",
              "      <th>adjOpen</th>\n",
              "      <th>adjVolume</th>\n",
              "      <th>divCash</th>\n",
              "      <th>splitFactor</th>\n",
              "    </tr>\n",
              "    <tr>\n",
              "      <th>symbol</th>\n",
              "      <th>date</th>\n",
              "      <th></th>\n",
              "      <th></th>\n",
              "      <th></th>\n",
              "      <th></th>\n",
              "      <th></th>\n",
              "      <th></th>\n",
              "      <th></th>\n",
              "      <th></th>\n",
              "      <th></th>\n",
              "      <th></th>\n",
              "      <th></th>\n",
              "      <th></th>\n",
              "    </tr>\n",
              "  </thead>\n",
              "  <tbody>\n",
              "    <tr>\n",
              "      <th rowspan=\"5\" valign=\"top\">AAPL</th>\n",
              "      <th>2017-01-11 00:00:00+00:00</th>\n",
              "      <td>119.75</td>\n",
              "      <td>119.93</td>\n",
              "      <td>118.60</td>\n",
              "      <td>118.740</td>\n",
              "      <td>27588593</td>\n",
              "      <td>28.176241</td>\n",
              "      <td>28.218593</td>\n",
              "      <td>27.905655</td>\n",
              "      <td>27.938595</td>\n",
              "      <td>110354372</td>\n",
              "      <td>0.0</td>\n",
              "      <td>1.0</td>\n",
              "    </tr>\n",
              "    <tr>\n",
              "      <th>2017-01-12 00:00:00+00:00</th>\n",
              "      <td>119.25</td>\n",
              "      <td>119.30</td>\n",
              "      <td>118.21</td>\n",
              "      <td>118.895</td>\n",
              "      <td>27086220</td>\n",
              "      <td>28.058594</td>\n",
              "      <td>28.070359</td>\n",
              "      <td>27.813891</td>\n",
              "      <td>27.975066</td>\n",
              "      <td>108344880</td>\n",
              "      <td>0.0</td>\n",
              "      <td>1.0</td>\n",
              "    </tr>\n",
              "    <tr>\n",
              "      <th>2017-01-13 00:00:00+00:00</th>\n",
              "      <td>119.04</td>\n",
              "      <td>119.62</td>\n",
              "      <td>118.81</td>\n",
              "      <td>119.110</td>\n",
              "      <td>26111948</td>\n",
              "      <td>28.009183</td>\n",
              "      <td>28.145653</td>\n",
              "      <td>27.955066</td>\n",
              "      <td>28.025654</td>\n",
              "      <td>104447792</td>\n",
              "      <td>0.0</td>\n",
              "      <td>1.0</td>\n",
              "    </tr>\n",
              "    <tr>\n",
              "      <th>2017-01-17 00:00:00+00:00</th>\n",
              "      <td>120.00</td>\n",
              "      <td>120.24</td>\n",
              "      <td>118.22</td>\n",
              "      <td>118.340</td>\n",
              "      <td>34439843</td>\n",
              "      <td>28.235064</td>\n",
              "      <td>28.291534</td>\n",
              "      <td>27.816243</td>\n",
              "      <td>27.844479</td>\n",
              "      <td>137759372</td>\n",
              "      <td>0.0</td>\n",
              "      <td>1.0</td>\n",
              "    </tr>\n",
              "    <tr>\n",
              "      <th>2017-01-18 00:00:00+00:00</th>\n",
              "      <td>119.99</td>\n",
              "      <td>120.50</td>\n",
              "      <td>119.71</td>\n",
              "      <td>120.000</td>\n",
              "      <td>23712961</td>\n",
              "      <td>28.232711</td>\n",
              "      <td>28.352710</td>\n",
              "      <td>28.166829</td>\n",
              "      <td>28.235064</td>\n",
              "      <td>94851844</td>\n",
              "      <td>0.0</td>\n",
              "      <td>1.0</td>\n",
              "    </tr>\n",
              "  </tbody>\n",
              "</table>\n",
              "</div>\n",
              "      <button class=\"colab-df-convert\" onclick=\"convertToInteractive('df-65c68ba3-fcfb-4fea-98e7-efedce3c7150')\"\n",
              "              title=\"Convert this dataframe to an interactive table.\"\n",
              "              style=\"display:none;\">\n",
              "        \n",
              "  <svg xmlns=\"http://www.w3.org/2000/svg\" height=\"24px\"viewBox=\"0 0 24 24\"\n",
              "       width=\"24px\">\n",
              "    <path d=\"M0 0h24v24H0V0z\" fill=\"none\"/>\n",
              "    <path d=\"M18.56 5.44l.94 2.06.94-2.06 2.06-.94-2.06-.94-.94-2.06-.94 2.06-2.06.94zm-11 1L8.5 8.5l.94-2.06 2.06-.94-2.06-.94L8.5 2.5l-.94 2.06-2.06.94zm10 10l.94 2.06.94-2.06 2.06-.94-2.06-.94-.94-2.06-.94 2.06-2.06.94z\"/><path d=\"M17.41 7.96l-1.37-1.37c-.4-.4-.92-.59-1.43-.59-.52 0-1.04.2-1.43.59L10.3 9.45l-7.72 7.72c-.78.78-.78 2.05 0 2.83L4 21.41c.39.39.9.59 1.41.59.51 0 1.02-.2 1.41-.59l7.78-7.78 2.81-2.81c.8-.78.8-2.07 0-2.86zM5.41 20L4 18.59l7.72-7.72 1.47 1.35L5.41 20z\"/>\n",
              "  </svg>\n",
              "      </button>\n",
              "      \n",
              "  <style>\n",
              "    .colab-df-container {\n",
              "      display:flex;\n",
              "      flex-wrap:wrap;\n",
              "      gap: 12px;\n",
              "    }\n",
              "\n",
              "    .colab-df-convert {\n",
              "      background-color: #E8F0FE;\n",
              "      border: none;\n",
              "      border-radius: 50%;\n",
              "      cursor: pointer;\n",
              "      display: none;\n",
              "      fill: #1967D2;\n",
              "      height: 32px;\n",
              "      padding: 0 0 0 0;\n",
              "      width: 32px;\n",
              "    }\n",
              "\n",
              "    .colab-df-convert:hover {\n",
              "      background-color: #E2EBFA;\n",
              "      box-shadow: 0px 1px 2px rgba(60, 64, 67, 0.3), 0px 1px 3px 1px rgba(60, 64, 67, 0.15);\n",
              "      fill: #174EA6;\n",
              "    }\n",
              "\n",
              "    [theme=dark] .colab-df-convert {\n",
              "      background-color: #3B4455;\n",
              "      fill: #D2E3FC;\n",
              "    }\n",
              "\n",
              "    [theme=dark] .colab-df-convert:hover {\n",
              "      background-color: #434B5C;\n",
              "      box-shadow: 0px 1px 3px 1px rgba(0, 0, 0, 0.15);\n",
              "      filter: drop-shadow(0px 1px 2px rgba(0, 0, 0, 0.3));\n",
              "      fill: #FFFFFF;\n",
              "    }\n",
              "  </style>\n",
              "\n",
              "      <script>\n",
              "        const buttonEl =\n",
              "          document.querySelector('#df-65c68ba3-fcfb-4fea-98e7-efedce3c7150 button.colab-df-convert');\n",
              "        buttonEl.style.display =\n",
              "          google.colab.kernel.accessAllowed ? 'block' : 'none';\n",
              "\n",
              "        async function convertToInteractive(key) {\n",
              "          const element = document.querySelector('#df-65c68ba3-fcfb-4fea-98e7-efedce3c7150');\n",
              "          const dataTable =\n",
              "            await google.colab.kernel.invokeFunction('convertToInteractive',\n",
              "                                                     [key], {});\n",
              "          if (!dataTable) return;\n",
              "\n",
              "          const docLinkHtml = 'Like what you see? Visit the ' +\n",
              "            '<a target=\"_blank\" href=https://colab.research.google.com/notebooks/data_table.ipynb>data table notebook</a>'\n",
              "            + ' to learn more about interactive tables.';\n",
              "          element.innerHTML = '';\n",
              "          dataTable['output_type'] = 'display_data';\n",
              "          await google.colab.output.renderOutput(dataTable, element);\n",
              "          const docLink = document.createElement('div');\n",
              "          docLink.innerHTML = docLinkHtml;\n",
              "          element.appendChild(docLink);\n",
              "        }\n",
              "      </script>\n",
              "    </div>\n",
              "  </div>\n",
              "  "
            ],
            "text/plain": [
              "                                   close    high  ...  divCash  splitFactor\n",
              "symbol date                                       ...                      \n",
              "AAPL   2017-01-11 00:00:00+00:00  119.75  119.93  ...      0.0          1.0\n",
              "       2017-01-12 00:00:00+00:00  119.25  119.30  ...      0.0          1.0\n",
              "       2017-01-13 00:00:00+00:00  119.04  119.62  ...      0.0          1.0\n",
              "       2017-01-17 00:00:00+00:00  120.00  120.24  ...      0.0          1.0\n",
              "       2017-01-18 00:00:00+00:00  119.99  120.50  ...      0.0          1.0\n",
              "\n",
              "[5 rows x 12 columns]"
            ]
          },
          "metadata": {},
          "execution_count": 4
        }
      ]
    },
    {
      "cell_type": "code",
      "source": [
        "df1=df.reset_index()['close']"
      ],
      "metadata": {
        "id": "7zJABC8Ofxwl"
      },
      "execution_count": 5,
      "outputs": []
    },
    {
      "cell_type": "code",
      "source": [
        "df1"
      ],
      "metadata": {
        "colab": {
          "base_uri": "https://localhost:8080/"
        },
        "id": "XnfYV5o4gCXQ",
        "outputId": "95bd26da-f9eb-48d8-d467-8d6511c5ab76"
      },
      "execution_count": 6,
      "outputs": [
        {
          "output_type": "execute_result",
          "data": {
            "text/plain": [
              "0       119.75\n",
              "1       119.25\n",
              "2       119.04\n",
              "3       120.00\n",
              "4       119.99\n",
              "         ...  \n",
              "1253    182.01\n",
              "1254    179.70\n",
              "1255    174.92\n",
              "1256    172.00\n",
              "1257    172.17\n",
              "Name: close, Length: 1258, dtype: float64"
            ]
          },
          "metadata": {},
          "execution_count": 6
        }
      ]
    },
    {
      "cell_type": "code",
      "source": [
        "import matplotlib.pyplot as plt\n",
        "plt.plot(df1)"
      ],
      "metadata": {
        "colab": {
          "base_uri": "https://localhost:8080/",
          "height": 283
        },
        "id": "XQn0ehp3gDPn",
        "outputId": "22d3341b-7db1-4f39-f835-4eea74ccff24"
      },
      "execution_count": 7,
      "outputs": [
        {
          "output_type": "execute_result",
          "data": {
            "text/plain": [
              "[<matplotlib.lines.Line2D at 0x7f9db2879110>]"
            ]
          },
          "metadata": {},
          "execution_count": 7
        },
        {
          "output_type": "display_data",
          "data": {
            "image/png": "[encoded data removed]",
            "text/plain": [
              "<Figure size 432x288 with 1 Axes>"
            ]
          },
          "metadata": {
            "needs_background": "light"
          }
        }
      ]
    },
    {
      "cell_type": "code",
      "source": [
        "import numpy as np"
      ],
      "metadata": {
        "id": "pebARUOkgHbj"
      },
      "execution_count": 8,
      "outputs": []
    },
    {
      "cell_type": "code",
      "source": [
        "df1"
      ],
      "metadata": {
        "colab": {
          "base_uri": "https://localhost:8080/"
        },
        "id": "O4CjHSLbgwDv",
        "outputId": "442e9440-916c-4bca-d1ef-9cb8a3e0d883"
      },
      "execution_count": 9,
      "outputs": [
        {
          "output_type": "execute_result",
          "data": {
            "text/plain": [
              "0       119.75\n",
              "1       119.25\n",
              "2       119.04\n",
              "3       120.00\n",
              "4       119.99\n",
              "         ...  \n",
              "1253    182.01\n",
              "1254    179.70\n",
              "1255    174.92\n",
              "1256    172.00\n",
              "1257    172.17\n",
              "Name: close, Length: 1258, dtype: float64"
            ]
          },
          "metadata": {},
          "execution_count": 9
        }
      ]
    },
    {
      "cell_type": "code",
      "source": [
        "from sklearn.preprocessing import MinMaxScaler\n",
        "scaler=MinMaxScaler(feature_range=(0,1))\n",
        "df1=scaler.fit_transform(np.array(df1).reshape(-1,1))"
      ],
      "metadata": {
        "id": "adSQn1NJgwpb"
      },
      "execution_count": 10,
      "outputs": []
    },
    {
      "cell_type": "code",
      "source": [
        "plt.plot(df1)"
      ],
      "metadata": {
        "colab": {
          "base_uri": "https://localhost:8080/",
          "height": 283
        },
        "id": "-pCo38g2g4bQ",
        "outputId": "479ef046-5bb2-4d3f-d105-fd21185c18c8"
      },
      "execution_count": 12,
      "outputs": [
        {
          "output_type": "execute_result",
          "data": {
            "text/plain": [
              "[<matplotlib.lines.Line2D at 0x7f9da367d110>]"
            ]
          },
          "metadata": {},
          "execution_count": 12
        },
        {
          "output_type": "display_data",
          "data": {
            "image/png": "[encoded data removed]",
            "text/plain": [
              "<Figure size 432x288 with 1 Axes>"
            ]
          },
          "metadata": {
            "needs_background": "light"
          }
        }
      ]
    },
    {
      "cell_type": "code",
      "source": [
        "df1"
      ],
      "metadata": {
        "colab": {
          "base_uri": "https://localhost:8080/"
        },
        "id": "7Cq_OKeQg7Nf",
        "outputId": "664b2d13-17f4-4574-82a1-409031d3db13"
      },
      "execution_count": 13,
      "outputs": [
        {
          "output_type": "execute_result",
          "data": {
            "text/plain": [
              "array([[0.03233563],\n",
              "       [0.03108328],\n",
              "       [0.03055729],\n",
              "       ...,\n",
              "       [0.17051972],\n",
              "       [0.16320601],\n",
              "       [0.16363181]])"
            ]
          },
          "metadata": {},
          "execution_count": 13
        }
      ]
    },
    {
      "cell_type": "code",
      "source": [
        "##splitting dataset into train and test split\n",
        "training_size=int(len(df1)*0.65)\n",
        "test_size=len(df1)-training_size\n",
        "train_data,test_data=df1[0:training_size,:],df1[training_size:len(df1),:1]"
      ],
      "metadata": {
        "id": "_w-anKEohDNK"
      },
      "execution_count": 14,
      "outputs": []
    },
    {
      "cell_type": "code",
      "source": [
        "training_size,test_size"
      ],
      "metadata": {
        "colab": {
          "base_uri": "https://localhost:8080/"
        },
        "id": "VqCvddmNhGI9",
        "outputId": "a585f322-c94f-4579-85b6-eb4e0ba6e4cf"
      },
      "execution_count": 15,
      "outputs": [
        {
          "output_type": "execute_result",
          "data": {
            "text/plain": [
              "(817, 441)"
            ]
          },
          "metadata": {},
          "execution_count": 15
        }
      ]
    },
    {
      "cell_type": "code",
      "source": [
        "import numpy\n",
        "# convert an array of values into a dataset matrix\n",
        "def create_dataset(dataset, time_step=1):\n",
        "\tdataX, dataY = [], []\n",
        "\tfor i in range(len(dataset)-time_step-1):\n",
        "\t\ta = dataset[i:(i+time_step), 0]   ###i=0, 0,1,2,3-----99   100 \n",
        "\t\tdataX.append(a)\n",
        "\t\tdataY.append(dataset[i + time_step, 0])\n",
        "\treturn numpy.array(dataX), numpy.array(dataY)"
      ],
      "metadata": {
        "id": "Hcngc1xDhIXD"
      },
      "execution_count": 16,
      "outputs": []
    },
    {
      "cell_type": "code",
      "source": [
        "# reshape into X=t,t+1,t+2,t+3 and Y=t+4\n",
        "time_step = 100\n",
        "X_train, y_train = create_dataset(train_data, time_step)\n",
        "X_test, ytest = create_dataset(test_data, time_step)"
      ],
      "metadata": {
        "id": "F6DggAQghRZX"
      },
      "execution_count": 17,
      "outputs": []
    },
    {
      "cell_type": "code",
      "source": [
        "print(X_train.shape), print(y_train.shape)"
      ],
      "metadata": {
        "colab": {
          "base_uri": "https://localhost:8080/"
        },
        "id": "0m6WNDWNhYOW",
        "outputId": "4b634ebc-22cf-4688-fe24-605d497964ea"
      },
      "execution_count": 18,
      "outputs": [
        {
          "output_type": "stream",
          "name": "stdout",
          "text": [
            "(716, 100)\n",
            "(716,)\n"
          ]
        },
        {
          "output_type": "execute_result",
          "data": {
            "text/plain": [
              "(None, None)"
            ]
          },
          "metadata": {},
          "execution_count": 18
        }
      ]
    },
    {
      "cell_type": "code",
      "source": [
        "print(X_test.shape), print(ytest.shape)"
      ],
      "metadata": {
        "colab": {
          "base_uri": "https://localhost:8080/"
        },
        "id": "p_ZG4FnVhZ7u",
        "outputId": "a010b6e4-669a-4590-ae9b-f06f221234f4"
      },
      "execution_count": 19,
      "outputs": [
        {
          "output_type": "stream",
          "name": "stdout",
          "text": [
            "(340, 100)\n",
            "(340,)\n"
          ]
        },
        {
          "output_type": "execute_result",
          "data": {
            "text/plain": [
              "(None, None)"
            ]
          },
          "metadata": {},
          "execution_count": 19
        }
      ]
    },
    {
      "cell_type": "code",
      "source": [
        "# reshape input to be [samples, time steps, features] which is required for LSTM\n",
        "X_train =X_train.reshape(X_train.shape[0],X_train.shape[1] , 1)\n",
        "X_test = X_test.reshape(X_test.shape[0],X_test.shape[1] , 1)\n"
      ],
      "metadata": {
        "id": "uU6Q1itxhcel"
      },
      "execution_count": 20,
      "outputs": []
    },
    {
      "cell_type": "code",
      "source": [
        "### Create the Stacked LSTM model\n",
        "from tensorflow.keras.models import Sequential\n",
        "from tensorflow.keras.layers import Dense\n",
        "from tensorflow.keras.layers import LSTM"
      ],
      "metadata": {
        "id": "obBc2LZ3hg5r"
      },
      "execution_count": 21,
      "outputs": []
    },
    {
      "cell_type": "code",
      "source": [
        "model=Sequential()\n",
        "model.add(LSTM(50,return_sequences=True,input_shape=(100,1)))\n",
        "model.add(LSTM(50,return_sequences=True))\n",
        "model.add(LSTM(50))\n",
        "model.add(Dense(1))\n",
        "model.compile(loss='mean_squared_error',optimizer='adam')"
      ],
      "metadata": {
        "id": "gctaLMsZhjqE"
      },
      "execution_count": 24,
      "outputs": []
    },
    {
      "cell_type": "code",
      "source": [
        "model.summary()"
      ],
      "metadata": {
        "colab": {
          "base_uri": "https://localhost:8080/"
        },
        "id": "Nty7jAJchlcY",
        "outputId": "7a859767-b4c8-491b-bb51-c1f579a96f91"
      },
      "execution_count": 25,
      "outputs": [
        {
          "output_type": "stream",
          "name": "stdout",
          "text": [
            "Model: \"sequential\"\n",
            "_________________________________________________________________\n",
            " Layer (type)                Output Shape              Param #   \n",
            "=================================================================\n",
            " lstm (LSTM)                 (None, 100, 50)           10400     \n",
            "                                                                 \n",
            " lstm_1 (LSTM)               (None, 100, 50)           20200     \n",
            "                                                                 \n",
            " lstm_2 (LSTM)               (None, 50)                20200     \n",
            "                                                                 \n",
            " dense (Dense)               (None, 1)                 51        \n",
            "                                                                 \n",
            "=================================================================\n",
            "Total params: 50,851\n",
            "Trainable params: 50,851\n",
            "Non-trainable params: 0\n",
            "_________________________________________________________________\n"
          ]
        }
      ]
    },
    {
      "cell_type": "code",
      "source": [
        "model.summary()"
      ],
      "metadata": {
        "colab": {
          "base_uri": "https://localhost:8080/"
        },
        "id": "4Hq5R9O8htem",
        "outputId": "9fd5d90e-8a1c-43b5-904a-1f9a178a6263"
      },
      "execution_count": 26,
      "outputs": [
        {
          "output_type": "stream",
          "name": "stdout",
          "text": [
            "Model: \"sequential\"\n",
            "_________________________________________________________________\n",
            " Layer (type)                Output Shape              Param #   \n",
            "=================================================================\n",
            " lstm (LSTM)                 (None, 100, 50)           10400     \n",
            "                                                                 \n",
            " lstm_1 (LSTM)               (None, 100, 50)           20200     \n",
            "                                                                 \n",
            " lstm_2 (LSTM)               (None, 50)                20200     \n",
            "                                                                 \n",
            " dense (Dense)               (None, 1)                 51        \n",
            "                                                                 \n",
            "=================================================================\n",
            "Total params: 50,851\n",
            "Trainable params: 50,851\n",
            "Non-trainable params: 0\n",
            "_________________________________________________________________\n"
          ]
        }
      ]
    },
    {
      "cell_type": "code",
      "source": [
        "model.fit(X_train,y_train,validation_data=(X_test,ytest),epochs=100,batch_size=64,verbose=1)"
      ],
      "metadata": {
        "colab": {
          "base_uri": "https://localhost:8080/"
        },
        "id": "TP-LKyOKhxbR",
        "outputId": "31caf5ad-c14b-4a73-ce57-c94217f006ed"
      },
      "execution_count": 27,
      "outputs": [
        {
          "output_type": "stream",
          "name": "stdout",
          "text": [
            "Epoch 1/100\n",
            "12/12 [==============================] - 10s 385ms/step - loss: 0.0211 - val_loss: 0.0096\n",
            "Epoch 2/100\n",
            "12/12 [==============================] - 3s 213ms/step - loss: 0.0041 - val_loss: 0.0200\n",
            "Epoch 3/100\n",
            "12/12 [==============================] - 3s 219ms/step - loss: 0.0020 - val_loss: 0.0138\n",
            "Epoch 4/100\n",
            "12/12 [==============================] - 3s 216ms/step - loss: 0.0011 - val_loss: 0.0149\n",
            "Epoch 5/100\n",
            "12/12 [==============================] - 3s 223ms/step - loss: 9.9131e-04 - val_loss: 0.0154\n",
            "Epoch 6/100\n",
            "12/12 [==============================] - 3s 220ms/step - loss: 8.9461e-04 - val_loss: 0.0144\n",
            "Epoch 7/100\n",
            "12/12 [==============================] - 3s 225ms/step - loss: 8.1519e-04 - val_loss: 0.0152\n",
            "Epoch 8/100\n",
            "12/12 [==============================] - 3s 222ms/step - loss: 8.2579e-04 - val_loss: 0.0158\n",
            "Epoch 9/100\n",
            "12/12 [==============================] - 3s 222ms/step - loss: 8.2132e-04 - val_loss: 0.0128\n",
            "Epoch 10/100\n",
            "12/12 [==============================] - 3s 219ms/step - loss: 6.9232e-04 - val_loss: 0.0121\n",
            "Epoch 11/100\n",
            "12/12 [==============================] - 3s 220ms/step - loss: 6.4232e-04 - val_loss: 0.0116\n",
            "Epoch 12/100\n",
            "12/12 [==============================] - 3s 218ms/step - loss: 5.8718e-04 - val_loss: 0.0118\n",
            "Epoch 13/100\n",
            "12/12 [==============================] - 3s 223ms/step - loss: 5.7046e-04 - val_loss: 0.0102\n",
            "Epoch 14/100\n",
            "12/12 [==============================] - 3s 221ms/step - loss: 5.3897e-04 - val_loss: 0.0100\n",
            "Epoch 15/100\n",
            "12/12 [==============================] - 3s 217ms/step - loss: 4.8277e-04 - val_loss: 0.0102\n",
            "Epoch 16/100\n",
            "12/12 [==============================] - 3s 220ms/step - loss: 4.9098e-04 - val_loss: 0.0098\n",
            "Epoch 17/100\n",
            "12/12 [==============================] - 3s 224ms/step - loss: 5.2894e-04 - val_loss: 0.0094\n",
            "Epoch 18/100\n",
            "12/12 [==============================] - 3s 218ms/step - loss: 4.8820e-04 - val_loss: 0.0084\n",
            "Epoch 19/100\n",
            "12/12 [==============================] - 3s 222ms/step - loss: 4.9688e-04 - val_loss: 0.0101\n",
            "Epoch 20/100\n",
            "12/12 [==============================] - 3s 221ms/step - loss: 5.9823e-04 - val_loss: 0.0068\n",
            "Epoch 21/100\n",
            "12/12 [==============================] - 3s 221ms/step - loss: 5.3609e-04 - val_loss: 0.0088\n",
            "Epoch 22/100\n",
            "12/12 [==============================] - 3s 220ms/step - loss: 4.5839e-04 - val_loss: 0.0072\n",
            "Epoch 23/100\n",
            "12/12 [==============================] - 3s 221ms/step - loss: 4.4546e-04 - val_loss: 0.0077\n",
            "Epoch 24/100\n",
            "12/12 [==============================] - 3s 218ms/step - loss: 4.4383e-04 - val_loss: 0.0074\n",
            "Epoch 25/100\n",
            "12/12 [==============================] - 3s 223ms/step - loss: 4.2301e-04 - val_loss: 0.0065\n",
            "Epoch 26/100\n",
            "12/12 [==============================] - 3s 219ms/step - loss: 4.2768e-04 - val_loss: 0.0071\n",
            "Epoch 27/100\n",
            "12/12 [==============================] - 3s 217ms/step - loss: 4.0260e-04 - val_loss: 0.0074\n",
            "Epoch 28/100\n",
            "12/12 [==============================] - 3s 222ms/step - loss: 4.3932e-04 - val_loss: 0.0059\n",
            "Epoch 29/100\n",
            "12/12 [==============================] - 3s 218ms/step - loss: 4.2864e-04 - val_loss: 0.0066\n",
            "Epoch 30/100\n",
            "12/12 [==============================] - 3s 214ms/step - loss: 4.0288e-04 - val_loss: 0.0063\n",
            "Epoch 31/100\n",
            "12/12 [==============================] - 3s 216ms/step - loss: 4.9469e-04 - val_loss: 0.0066\n",
            "Epoch 32/100\n",
            "12/12 [==============================] - 3s 219ms/step - loss: 3.9743e-04 - val_loss: 0.0061\n",
            "Epoch 33/100\n",
            "12/12 [==============================] - 3s 213ms/step - loss: 3.7345e-04 - val_loss: 0.0057\n",
            "Epoch 34/100\n",
            "12/12 [==============================] - 3s 212ms/step - loss: 3.8832e-04 - val_loss: 0.0058\n",
            "Epoch 35/100\n",
            "12/12 [==============================] - 3s 219ms/step - loss: 3.6836e-04 - val_loss: 0.0055\n",
            "Epoch 36/100\n",
            "12/12 [==============================] - 3s 218ms/step - loss: 3.7014e-04 - val_loss: 0.0052\n",
            "Epoch 37/100\n",
            "12/12 [==============================] - 3s 214ms/step - loss: 3.6866e-04 - val_loss: 0.0049\n",
            "Epoch 38/100\n",
            "12/12 [==============================] - 3s 224ms/step - loss: 4.5329e-04 - val_loss: 0.0057\n",
            "Epoch 39/100\n",
            "12/12 [==============================] - 3s 218ms/step - loss: 3.9177e-04 - val_loss: 0.0058\n",
            "Epoch 40/100\n",
            "12/12 [==============================] - 3s 214ms/step - loss: 5.9945e-04 - val_loss: 0.0047\n",
            "Epoch 41/100\n",
            "12/12 [==============================] - 3s 216ms/step - loss: 4.8931e-04 - val_loss: 0.0047\n",
            "Epoch 42/100\n",
            "12/12 [==============================] - 3s 220ms/step - loss: 3.5123e-04 - val_loss: 0.0051\n",
            "Epoch 43/100\n",
            "12/12 [==============================] - 3s 221ms/step - loss: 3.7881e-04 - val_loss: 0.0055\n",
            "Epoch 44/100\n",
            "12/12 [==============================] - 3s 220ms/step - loss: 3.6820e-04 - val_loss: 0.0048\n",
            "Epoch 45/100\n",
            "12/12 [==============================] - 3s 220ms/step - loss: 3.6207e-04 - val_loss: 0.0043\n",
            "Epoch 46/100\n",
            "12/12 [==============================] - 3s 222ms/step - loss: 3.5985e-04 - val_loss: 0.0049\n",
            "Epoch 47/100\n",
            "12/12 [==============================] - 3s 218ms/step - loss: 3.5500e-04 - val_loss: 0.0044\n",
            "Epoch 48/100\n",
            "12/12 [==============================] - 3s 217ms/step - loss: 3.6773e-04 - val_loss: 0.0053\n",
            "Epoch 49/100\n",
            "12/12 [==============================] - 3s 216ms/step - loss: 4.5758e-04 - val_loss: 0.0040\n",
            "Epoch 50/100\n",
            "12/12 [==============================] - 3s 218ms/step - loss: 4.2607e-04 - val_loss: 0.0045\n",
            "Epoch 51/100\n",
            "12/12 [==============================] - 3s 217ms/step - loss: 3.5663e-04 - val_loss: 0.0044\n",
            "Epoch 52/100\n",
            "12/12 [==============================] - 3s 217ms/step - loss: 3.3293e-04 - val_loss: 0.0048\n",
            "Epoch 53/100\n",
            "12/12 [==============================] - 3s 215ms/step - loss: 3.3408e-04 - val_loss: 0.0044\n",
            "Epoch 54/100\n",
            "12/12 [==============================] - 3s 218ms/step - loss: 3.3814e-04 - val_loss: 0.0042\n",
            "Epoch 55/100\n",
            "12/12 [==============================] - 2s 207ms/step - loss: 3.7675e-04 - val_loss: 0.0037\n",
            "Epoch 56/100\n",
            "12/12 [==============================] - 3s 218ms/step - loss: 3.9842e-04 - val_loss: 0.0044\n",
            "Epoch 57/100\n",
            "12/12 [==============================] - 3s 217ms/step - loss: 4.0053e-04 - val_loss: 0.0042\n",
            "Epoch 58/100\n",
            "12/12 [==============================] - 3s 217ms/step - loss: 3.4320e-04 - val_loss: 0.0036\n",
            "Epoch 59/100\n",
            "12/12 [==============================] - 3s 222ms/step - loss: 3.3835e-04 - val_loss: 0.0041\n",
            "Epoch 60/100\n",
            "12/12 [==============================] - 3s 210ms/step - loss: 3.2030e-04 - val_loss: 0.0038\n",
            "Epoch 61/100\n",
            "12/12 [==============================] - 3s 214ms/step - loss: 3.9313e-04 - val_loss: 0.0044\n",
            "Epoch 62/100\n",
            "12/12 [==============================] - 3s 215ms/step - loss: 3.6023e-04 - val_loss: 0.0033\n",
            "Epoch 63/100\n",
            "12/12 [==============================] - 3s 213ms/step - loss: 3.3289e-04 - val_loss: 0.0037\n",
            "Epoch 64/100\n",
            "12/12 [==============================] - 3s 216ms/step - loss: 3.3221e-04 - val_loss: 0.0034\n",
            "Epoch 65/100\n",
            "12/12 [==============================] - 3s 210ms/step - loss: 3.1285e-04 - val_loss: 0.0033\n",
            "Epoch 66/100\n",
            "12/12 [==============================] - 3s 214ms/step - loss: 3.6893e-04 - val_loss: 0.0030\n",
            "Epoch 67/100\n",
            "12/12 [==============================] - 3s 216ms/step - loss: 3.3878e-04 - val_loss: 0.0030\n",
            "Epoch 68/100\n",
            "12/12 [==============================] - 3s 217ms/step - loss: 3.4148e-04 - val_loss: 0.0033\n",
            "Epoch 69/100\n",
            "12/12 [==============================] - 3s 215ms/step - loss: 3.1770e-04 - val_loss: 0.0045\n",
            "Epoch 70/100\n",
            "12/12 [==============================] - 3s 217ms/step - loss: 3.1682e-04 - val_loss: 0.0035\n",
            "Epoch 71/100\n",
            "12/12 [==============================] - 3s 211ms/step - loss: 3.3003e-04 - val_loss: 0.0030\n",
            "Epoch 72/100\n",
            "12/12 [==============================] - 2s 209ms/step - loss: 3.5507e-04 - val_loss: 0.0033\n",
            "Epoch 73/100\n",
            "12/12 [==============================] - 3s 216ms/step - loss: 3.0471e-04 - val_loss: 0.0035\n",
            "Epoch 74/100\n",
            "12/12 [==============================] - 3s 221ms/step - loss: 2.9053e-04 - val_loss: 0.0030\n",
            "Epoch 75/100\n",
            "12/12 [==============================] - 3s 220ms/step - loss: 3.0066e-04 - val_loss: 0.0032\n",
            "Epoch 76/100\n",
            "12/12 [==============================] - 3s 223ms/step - loss: 2.9424e-04 - val_loss: 0.0033\n",
            "Epoch 77/100\n",
            "12/12 [==============================] - 3s 220ms/step - loss: 3.0448e-04 - val_loss: 0.0028\n",
            "Epoch 78/100\n",
            "12/12 [==============================] - 3s 219ms/step - loss: 3.2930e-04 - val_loss: 0.0031\n",
            "Epoch 79/100\n",
            "12/12 [==============================] - 3s 217ms/step - loss: 2.9863e-04 - val_loss: 0.0029\n",
            "Epoch 80/100\n",
            "12/12 [==============================] - 3s 220ms/step - loss: 2.8131e-04 - val_loss: 0.0028\n",
            "Epoch 81/100\n",
            "12/12 [==============================] - 3s 217ms/step - loss: 2.8239e-04 - val_loss: 0.0029\n",
            "Epoch 82/100\n",
            "12/12 [==============================] - 2s 206ms/step - loss: 2.9333e-04 - val_loss: 0.0029\n",
            "Epoch 83/100\n",
            "12/12 [==============================] - 3s 223ms/step - loss: 2.8913e-04 - val_loss: 0.0027\n",
            "Epoch 84/100\n",
            "12/12 [==============================] - 3s 221ms/step - loss: 3.3476e-04 - val_loss: 0.0028\n",
            "Epoch 85/100\n",
            "12/12 [==============================] - 3s 216ms/step - loss: 2.8469e-04 - val_loss: 0.0023\n",
            "Epoch 86/100\n",
            "12/12 [==============================] - 2s 201ms/step - loss: 3.2053e-04 - val_loss: 0.0026\n",
            "Epoch 87/100\n",
            "12/12 [==============================] - 3s 216ms/step - loss: 2.8253e-04 - val_loss: 0.0022\n",
            "Epoch 88/100\n",
            "12/12 [==============================] - 3s 219ms/step - loss: 2.7976e-04 - val_loss: 0.0022\n",
            "Epoch 89/100\n",
            "12/12 [==============================] - 3s 215ms/step - loss: 3.0741e-04 - val_loss: 0.0021\n",
            "Epoch 90/100\n",
            "12/12 [==============================] - 3s 219ms/step - loss: 2.8349e-04 - val_loss: 0.0023\n",
            "Epoch 91/100\n",
            "12/12 [==============================] - 3s 216ms/step - loss: 2.6928e-04 - val_loss: 0.0019\n",
            "Epoch 92/100\n",
            "12/12 [==============================] - 3s 216ms/step - loss: 2.8078e-04 - val_loss: 0.0021\n",
            "Epoch 93/100\n",
            "12/12 [==============================] - 3s 216ms/step - loss: 3.0205e-04 - val_loss: 0.0019\n",
            "Epoch 94/100\n",
            "12/12 [==============================] - 3s 216ms/step - loss: 2.7720e-04 - val_loss: 0.0018\n",
            "Epoch 95/100\n",
            "12/12 [==============================] - 3s 219ms/step - loss: 3.2822e-04 - val_loss: 0.0020\n",
            "Epoch 96/100\n",
            "12/12 [==============================] - 3s 215ms/step - loss: 3.0486e-04 - val_loss: 0.0017\n",
            "Epoch 97/100\n",
            "12/12 [==============================] - 3s 218ms/step - loss: 2.8619e-04 - val_loss: 0.0021\n",
            "Epoch 98/100\n",
            "12/12 [==============================] - 3s 217ms/step - loss: 2.6543e-04 - val_loss: 0.0018\n",
            "Epoch 99/100\n",
            "12/12 [==============================] - 3s 218ms/step - loss: 2.5493e-04 - val_loss: 0.0019\n",
            "Epoch 100/100\n",
            "12/12 [==============================] - 3s 213ms/step - loss: 2.7831e-04 - val_loss: 0.0017\n"
          ]
        },
        {
          "output_type": "execute_result",
          "data": {
            "text/plain": [
              "<keras.callbacks.History at 0x7f9d38a716d0>"
            ]
          },
          "metadata": {},
          "execution_count": 27
        }
      ]
    },
    {
      "cell_type": "code",
      "source": [
        "import tensorflow as tf"
      ],
      "metadata": {
        "id": "9axEiMoqh0Il"
      },
      "execution_count": 28,
      "outputs": []
    },
    {
      "cell_type": "code",
      "source": [
        "tf.__version__"
      ],
      "metadata": {
        "colab": {
          "base_uri": "https://localhost:8080/",
          "height": 35
        },
        "id": "Rjw2VzcCjV5o",
        "outputId": "6fd80e5c-7660-42b5-d0a7-081566e099e8"
      },
      "execution_count": 29,
      "outputs": [
        {
          "output_type": "execute_result",
          "data": {
            "application/vnd.google.colaboratory.intrinsic+json": {
              "type": "string"
            },
            "text/plain": [
              "'2.7.0'"
            ]
          },
          "metadata": {},
          "execution_count": 29
        }
      ]
    },
    {
      "cell_type": "code",
      "source": [
        "train_predict=model.predict(X_train)\n",
        "test_predict=model.predict(X_test)"
      ],
      "metadata": {
        "id": "71AHVAVcjmen"
      },
      "execution_count": 30,
      "outputs": []
    },
    {
      "cell_type": "code",
      "source": [
        "##Transformback to original form\n",
        "train_predict=scaler.inverse_transform(train_predict)\n",
        "test_predict=scaler.inverse_transform(test_predict)"
      ],
      "metadata": {
        "id": "bdv15a0qjohq"
      },
      "execution_count": 31,
      "outputs": []
    },
    {
      "cell_type": "code",
      "source": [
        "### Calculate RMSE performance metrics\n",
        "import math\n",
        "from sklearn.metrics import mean_squared_error\n",
        "math.sqrt(mean_squared_error(y_train,train_predict))"
      ],
      "metadata": {
        "colab": {
          "base_uri": "https://localhost:8080/"
        },
        "id": "-C-vz63ljrLz",
        "outputId": "5383d084-69a2-4476-ef94-198058c4991c"
      },
      "execution_count": 32,
      "outputs": [
        {
          "output_type": "execute_result",
          "data": {
            "text/plain": [
              "204.0027024749686"
            ]
          },
          "metadata": {},
          "execution_count": 32
        }
      ]
    },
    {
      "cell_type": "code",
      "source": [
        "math.sqrt(mean_squared_error(ytest,test_predict))"
      ],
      "metadata": {
        "colab": {
          "base_uri": "https://localhost:8080/"
        },
        "id": "JevJm0d_jtUH",
        "outputId": "882fba44-aaef-42fb-eecc-1e430b39e5eb"
      },
      "execution_count": 33,
      "outputs": [
        {
          "output_type": "execute_result",
          "data": {
            "text/plain": [
              "140.38486410475264"
            ]
          },
          "metadata": {},
          "execution_count": 33
        }
      ]
    },
    {
      "cell_type": "code",
      "source": [
        "### Plotting \n",
        "# shift train predictions for plotting\n",
        "look_back=100\n",
        "trainPredictPlot = numpy.empty_like(df1)\n",
        "trainPredictPlot[:, :] = np.nan\n",
        "trainPredictPlot[look_back:len(train_predict)+look_back, :] = train_predict\n",
        "# shift test predictions for plotting\n",
        "testPredictPlot = numpy.empty_like(df1)\n",
        "testPredictPlot[:, :] = numpy.nan\n",
        "testPredictPlot[len(train_predict)+(look_back*2)+1:len(df1)-1, :] = test_predict\n",
        "# plot baseline and predictions\n",
        "plt.plot(scaler.inverse_transform(df1))\n",
        "plt.plot(trainPredictPlot)\n",
        "plt.plot(testPredictPlot)\n",
        "plt.show()"
      ],
      "metadata": {
        "colab": {
          "base_uri": "https://localhost:8080/",
          "height": 265
        },
        "id": "QtfwlIBvj3zI",
        "outputId": "a9efbd0c-0ac2-4fc0-a50a-4ee12b3efa20"
      },
      "execution_count": 34,
      "outputs": [
        {
          "output_type": "display_data",
          "data": {
            "image/png": "[encoded data removed]",
            "text/plain": [
              "<Figure size 432x288 with 1 Axes>"
            ]
          },
          "metadata": {
            "needs_background": "light"
          }
        }
      ]
    },
    {
      "cell_type": "code",
      "source": [
        "len(test_data)"
      ],
      "metadata": {
        "colab": {
          "base_uri": "https://localhost:8080/"
        },
        "id": "5GTZgYffkK97",
        "outputId": "f4356268-3620-47bb-df38-4c48eac5ef25"
      },
      "execution_count": 35,
      "outputs": [
        {
          "output_type": "execute_result",
          "data": {
            "text/plain": [
              "441"
            ]
          },
          "metadata": {},
          "execution_count": 35
        }
      ]
    },
    {
      "cell_type": "code",
      "source": [
        "x_input=test_data[341:].reshape(1,-1)\n",
        "x_input.shape"
      ],
      "metadata": {
        "colab": {
          "base_uri": "https://localhost:8080/"
        },
        "id": "YfEDkwg-kOcV",
        "outputId": "45f0a0ef-87ad-4e11-8cf2-e4c4604b803f"
      },
      "execution_count": 36,
      "outputs": [
        {
          "output_type": "execute_result",
          "data": {
            "text/plain": [
              "(1, 100)"
            ]
          },
          "metadata": {},
          "execution_count": 36
        }
      ]
    },
    {
      "cell_type": "code",
      "source": [
        "temp_input=list(x_input)\n",
        "temp_input=temp_input[0].tolist()"
      ],
      "metadata": {
        "id": "vfq7tMJYkdSu"
      },
      "execution_count": 37,
      "outputs": []
    },
    {
      "cell_type": "code",
      "source": [
        "from numpy import array\n",
        "\n",
        "lst_output=[]\n",
        "n_steps=100\n",
        "i=0\n",
        "while(i<30):\n",
        "    \n",
        "    if(len(temp_input)>100):\n",
        "        #print(temp_input)\n",
        "        x_input=np.array(temp_input[1:])\n",
        "        print(\"{} day input {}\".format(i,x_input))\n",
        "        x_input=x_input.reshape(1,-1)\n",
        "        x_input = x_input.reshape((1, n_steps, 1))\n",
        "        #print(x_input)\n",
        "        yhat = model.predict(x_input, verbose=0)\n",
        "        print(\"{} day output {}\".format(i,yhat))\n",
        "        temp_input.extend(yhat[0].tolist())\n",
        "        temp_input=temp_input[1:]\n",
        "        #print(temp_input)\n",
        "        lst_output.extend(yhat.tolist())\n",
        "        i=i+1\n",
        "    else:\n",
        "        x_input = x_input.reshape((1, n_steps,1))\n",
        "        yhat = model.predict(x_input, verbose=0)\n",
        "        print(yhat[0])\n",
        "        temp_input.extend(yhat[0].tolist())\n",
        "        print(len(temp_input))\n",
        "        lst_output.extend(yhat.tolist())\n",
        "        i=i+1\n",
        "print(lst_output)"
      ],
      "metadata": {
        "colab": {
          "base_uri": "https://localhost:8080/"
        },
        "id": "RxD2bH-3kgIN",
        "outputId": "e890b7fa-95b5-4df2-eae1-ceaafbb69a5c"
      },
      "execution_count": 38,
      "outputs": [
        {
          "output_type": "stream",
          "name": "stdout",
          "text": [
            "[0.18019597]\n",
            "101\n",
            "1 day input [0.09983719 0.10356919 0.10737633 0.10715091 0.10399499 0.10194114\n",
            " 0.10459612 0.11591735 0.11268629 0.11438948 0.11724483 0.11887289\n",
            " 0.12485911 0.12090169 0.11829681 0.10552286 0.10697558 0.10339386\n",
            " 0.10567314 0.10507201 0.09823419 0.09041954 0.09164684 0.0977082\n",
            " 0.10016281 0.10038823 0.09650595 0.0878397  0.09014402 0.08681277\n",
            " 0.08969317 0.08090169 0.08583594 0.08806512 0.09129618 0.09031935\n",
            " 0.09009393 0.08683782 0.085335   0.09247339 0.09517846 0.09946149\n",
            " 0.10499687 0.10624922 0.10680025 0.10482154 0.10469631 0.1063995\n",
            " 0.10522229 0.11453976 0.10760175 0.10549781 0.10815279 0.11183469\n",
            " 0.1105072  0.1113087  0.10920476 0.1101315  0.10289292 0.10276769\n",
            " 0.10807765 0.10810269 0.11060739 0.11684408 0.12781465 0.13452724\n",
            " 0.13570445 0.13668128 0.13800877 0.12515967 0.13375078 0.14642455\n",
            " 0.14509706 0.14256731 0.1377583  0.14647464 0.16115216 0.17092048\n",
            " 0.16961803 0.181866   0.17257358 0.16904195 0.18149029 0.16385723\n",
            " 0.16105197 0.15757044 0.16568566 0.17232311 0.17392611 0.18407013\n",
            " 0.18146525 0.18169067 0.17873513 0.17715717 0.18827802 0.18249217\n",
            " 0.17051972 0.16320601 0.16363181 0.18019597]\n",
            "1 day output [[0.17807208]]\n",
            "2 day input [0.10356919 0.10737633 0.10715091 0.10399499 0.10194114 0.10459612\n",
            " 0.11591735 0.11268629 0.11438948 0.11724483 0.11887289 0.12485911\n",
            " 0.12090169 0.11829681 0.10552286 0.10697558 0.10339386 0.10567314\n",
            " 0.10507201 0.09823419 0.09041954 0.09164684 0.0977082  0.10016281\n",
            " 0.10038823 0.09650595 0.0878397  0.09014402 0.08681277 0.08969317\n",
            " 0.08090169 0.08583594 0.08806512 0.09129618 0.09031935 0.09009393\n",
            " 0.08683782 0.085335   0.09247339 0.09517846 0.09946149 0.10499687\n",
            " 0.10624922 0.10680025 0.10482154 0.10469631 0.1063995  0.10522229\n",
            " 0.11453976 0.10760175 0.10549781 0.10815279 0.11183469 0.1105072\n",
            " 0.1113087  0.10920476 0.1101315  0.10289292 0.10276769 0.10807765\n",
            " 0.10810269 0.11060739 0.11684408 0.12781465 0.13452724 0.13570445\n",
            " 0.13668128 0.13800877 0.12515967 0.13375078 0.14642455 0.14509706\n",
            " 0.14256731 0.1377583  0.14647464 0.16115216 0.17092048 0.16961803\n",
            " 0.181866   0.17257358 0.16904195 0.18149029 0.16385723 0.16105197\n",
            " 0.15757044 0.16568566 0.17232311 0.17392611 0.18407013 0.18146525\n",
            " 0.18169067 0.17873513 0.17715717 0.18827802 0.18249217 0.17051972\n",
            " 0.16320601 0.16363181 0.18019597 0.17807208]\n",
            "2 day output [[0.17694819]]\n",
            "3 day input [0.10737633 0.10715091 0.10399499 0.10194114 0.10459612 0.11591735\n",
            " 0.11268629 0.11438948 0.11724483 0.11887289 0.12485911 0.12090169\n",
            " 0.11829681 0.10552286 0.10697558 0.10339386 0.10567314 0.10507201\n",
            " 0.09823419 0.09041954 0.09164684 0.0977082  0.10016281 0.10038823\n",
            " 0.09650595 0.0878397  0.09014402 0.08681277 0.08969317 0.08090169\n",
            " 0.08583594 0.08806512 0.09129618 0.09031935 0.09009393 0.08683782\n",
            " 0.085335   0.09247339 0.09517846 0.09946149 0.10499687 0.10624922\n",
            " 0.10680025 0.10482154 0.10469631 0.1063995  0.10522229 0.11453976\n",
            " 0.10760175 0.10549781 0.10815279 0.11183469 0.1105072  0.1113087\n",
            " 0.10920476 0.1101315  0.10289292 0.10276769 0.10807765 0.10810269\n",
            " 0.11060739 0.11684408 0.12781465 0.13452724 0.13570445 0.13668128\n",
            " 0.13800877 0.12515967 0.13375078 0.14642455 0.14509706 0.14256731\n",
            " 0.1377583  0.14647464 0.16115216 0.17092048 0.16961803 0.181866\n",
            " 0.17257358 0.16904195 0.18149029 0.16385723 0.16105197 0.15757044\n",
            " 0.16568566 0.17232311 0.17392611 0.18407013 0.18146525 0.18169067\n",
            " 0.17873513 0.17715717 0.18827802 0.18249217 0.17051972 0.16320601\n",
            " 0.16363181 0.18019597 0.17807208 0.17694819]\n",
            "3 day output [[0.17662476]]\n",
            "4 day input [0.10715091 0.10399499 0.10194114 0.10459612 0.11591735 0.11268629\n",
            " 0.11438948 0.11724483 0.11887289 0.12485911 0.12090169 0.11829681\n",
            " 0.10552286 0.10697558 0.10339386 0.10567314 0.10507201 0.09823419\n",
            " 0.09041954 0.09164684 0.0977082  0.10016281 0.10038823 0.09650595\n",
            " 0.0878397  0.09014402 0.08681277 0.08969317 0.08090169 0.08583594\n",
            " 0.08806512 0.09129618 0.09031935 0.09009393 0.08683782 0.085335\n",
            " 0.09247339 0.09517846 0.09946149 0.10499687 0.10624922 0.10680025\n",
            " 0.10482154 0.10469631 0.1063995  0.10522229 0.11453976 0.10760175\n",
            " 0.10549781 0.10815279 0.11183469 0.1105072  0.1113087  0.10920476\n",
            " 0.1101315  0.10289292 0.10276769 0.10807765 0.10810269 0.11060739\n",
            " 0.11684408 0.12781465 0.13452724 0.13570445 0.13668128 0.13800877\n",
            " 0.12515967 0.13375078 0.14642455 0.14509706 0.14256731 0.1377583\n",
            " 0.14647464 0.16115216 0.17092048 0.16961803 0.181866   0.17257358\n",
            " 0.16904195 0.18149029 0.16385723 0.16105197 0.15757044 0.16568566\n",
            " 0.17232311 0.17392611 0.18407013 0.18146525 0.18169067 0.17873513\n",
            " 0.17715717 0.18827802 0.18249217 0.17051972 0.16320601 0.16363181\n",
            " 0.18019597 0.17807208 0.17694819 0.17662476]\n",
            "4 day output [[0.17681913]]\n",
            "5 day input [0.10399499 0.10194114 0.10459612 0.11591735 0.11268629 0.11438948\n",
            " 0.11724483 0.11887289 0.12485911 0.12090169 0.11829681 0.10552286\n",
            " 0.10697558 0.10339386 0.10567314 0.10507201 0.09823419 0.09041954\n",
            " 0.09164684 0.0977082  0.10016281 0.10038823 0.09650595 0.0878397\n",
            " 0.09014402 0.08681277 0.08969317 0.08090169 0.08583594 0.08806512\n",
            " 0.09129618 0.09031935 0.09009393 0.08683782 0.085335   0.09247339\n",
            " 0.09517846 0.09946149 0.10499687 0.10624922 0.10680025 0.10482154\n",
            " 0.10469631 0.1063995  0.10522229 0.11453976 0.10760175 0.10549781\n",
            " 0.10815279 0.11183469 0.1105072  0.1113087  0.10920476 0.1101315\n",
            " 0.10289292 0.10276769 0.10807765 0.10810269 0.11060739 0.11684408\n",
            " 0.12781465 0.13452724 0.13570445 0.13668128 0.13800877 0.12515967\n",
            " 0.13375078 0.14642455 0.14509706 0.14256731 0.1377583  0.14647464\n",
            " 0.16115216 0.17092048 0.16961803 0.181866   0.17257358 0.16904195\n",
            " 0.18149029 0.16385723 0.16105197 0.15757044 0.16568566 0.17232311\n",
            " 0.17392611 0.18407013 0.18146525 0.18169067 0.17873513 0.17715717\n",
            " 0.18827802 0.18249217 0.17051972 0.16320601 0.16363181 0.18019597\n",
            " 0.17807208 0.17694819 0.17662476 0.17681913]\n",
            "5 day output [[0.17730874]]\n",
            "6 day input [0.10194114 0.10459612 0.11591735 0.11268629 0.11438948 0.11724483\n",
            " 0.11887289 0.12485911 0.12090169 0.11829681 0.10552286 0.10697558\n",
            " 0.10339386 0.10567314 0.10507201 0.09823419 0.09041954 0.09164684\n",
            " 0.0977082  0.10016281 0.10038823 0.09650595 0.0878397  0.09014402\n",
            " 0.08681277 0.08969317 0.08090169 0.08583594 0.08806512 0.09129618\n",
            " 0.09031935 0.09009393 0.08683782 0.085335   0.09247339 0.09517846\n",
            " 0.09946149 0.10499687 0.10624922 0.10680025 0.10482154 0.10469631\n",
            " 0.1063995  0.10522229 0.11453976 0.10760175 0.10549781 0.10815279\n",
            " 0.11183469 0.1105072  0.1113087  0.10920476 0.1101315  0.10289292\n",
            " 0.10276769 0.10807765 0.10810269 0.11060739 0.11684408 0.12781465\n",
            " 0.13452724 0.13570445 0.13668128 0.13800877 0.12515967 0.13375078\n",
            " 0.14642455 0.14509706 0.14256731 0.1377583  0.14647464 0.16115216\n",
            " 0.17092048 0.16961803 0.181866   0.17257358 0.16904195 0.18149029\n",
            " 0.16385723 0.16105197 0.15757044 0.16568566 0.17232311 0.17392611\n",
            " 0.18407013 0.18146525 0.18169067 0.17873513 0.17715717 0.18827802\n",
            " 0.18249217 0.17051972 0.16320601 0.16363181 0.18019597 0.17807208\n",
            " 0.17694819 0.17662476 0.17681913 0.17730874]\n",
            "6 day output [[0.17795525]]\n",
            "7 day input [0.10459612 0.11591735 0.11268629 0.11438948 0.11724483 0.11887289\n",
            " 0.12485911 0.12090169 0.11829681 0.10552286 0.10697558 0.10339386\n",
            " 0.10567314 0.10507201 0.09823419 0.09041954 0.09164684 0.0977082\n",
            " 0.10016281 0.10038823 0.09650595 0.0878397  0.09014402 0.08681277\n",
            " 0.08969317 0.08090169 0.08583594 0.08806512 0.09129618 0.09031935\n",
            " 0.09009393 0.08683782 0.085335   0.09247339 0.09517846 0.09946149\n",
            " 0.10499687 0.10624922 0.10680025 0.10482154 0.10469631 0.1063995\n",
            " 0.10522229 0.11453976 0.10760175 0.10549781 0.10815279 0.11183469\n",
            " 0.1105072  0.1113087  0.10920476 0.1101315  0.10289292 0.10276769\n",
            " 0.10807765 0.10810269 0.11060739 0.11684408 0.12781465 0.13452724\n",
            " 0.13570445 0.13668128 0.13800877 0.12515967 0.13375078 0.14642455\n",
            " 0.14509706 0.14256731 0.1377583  0.14647464 0.16115216 0.17092048\n",
            " 0.16961803 0.181866   0.17257358 0.16904195 0.18149029 0.16385723\n",
            " 0.16105197 0.15757044 0.16568566 0.17232311 0.17392611 0.18407013\n",
            " 0.18146525 0.18169067 0.17873513 0.17715717 0.18827802 0.18249217\n",
            " 0.17051972 0.16320601 0.16363181 0.18019597 0.17807208 0.17694819\n",
            " 0.17662476 0.17681913 0.17730874 0.17795525]\n",
            "7 day output [[0.17868577]]\n",
            "8 day input [0.11591735 0.11268629 0.11438948 0.11724483 0.11887289 0.12485911\n",
            " 0.12090169 0.11829681 0.10552286 0.10697558 0.10339386 0.10567314\n",
            " 0.10507201 0.09823419 0.09041954 0.09164684 0.0977082  0.10016281\n",
            " 0.10038823 0.09650595 0.0878397  0.09014402 0.08681277 0.08969317\n",
            " 0.08090169 0.08583594 0.08806512 0.09129618 0.09031935 0.09009393\n",
            " 0.08683782 0.085335   0.09247339 0.09517846 0.09946149 0.10499687\n",
            " 0.10624922 0.10680025 0.10482154 0.10469631 0.1063995  0.10522229\n",
            " 0.11453976 0.10760175 0.10549781 0.10815279 0.11183469 0.1105072\n",
            " 0.1113087  0.10920476 0.1101315  0.10289292 0.10276769 0.10807765\n",
            " 0.10810269 0.11060739 0.11684408 0.12781465 0.13452724 0.13570445\n",
            " 0.13668128 0.13800877 0.12515967 0.13375078 0.14642455 0.14509706\n",
            " 0.14256731 0.1377583  0.14647464 0.16115216 0.17092048 0.16961803\n",
            " 0.181866   0.17257358 0.16904195 0.18149029 0.16385723 0.16105197\n",
            " 0.15757044 0.16568566 0.17232311 0.17392611 0.18407013 0.18146525\n",
            " 0.18169067 0.17873513 0.17715717 0.18827802 0.18249217 0.17051972\n",
            " 0.16320601 0.16363181 0.18019597 0.17807208 0.17694819 0.17662476\n",
            " 0.17681913 0.17730874 0.17795525 0.17868577]\n",
            "8 day output [[0.17946747]]\n",
            "9 day input [0.11268629 0.11438948 0.11724483 0.11887289 0.12485911 0.12090169\n",
            " 0.11829681 0.10552286 0.10697558 0.10339386 0.10567314 0.10507201\n",
            " 0.09823419 0.09041954 0.09164684 0.0977082  0.10016281 0.10038823\n",
            " 0.09650595 0.0878397  0.09014402 0.08681277 0.08969317 0.08090169\n",
            " 0.08583594 0.08806512 0.09129618 0.09031935 0.09009393 0.08683782\n",
            " 0.085335   0.09247339 0.09517846 0.09946149 0.10499687 0.10624922\n",
            " 0.10680025 0.10482154 0.10469631 0.1063995  0.10522229 0.11453976\n",
            " 0.10760175 0.10549781 0.10815279 0.11183469 0.1105072  0.1113087\n",
            " 0.10920476 0.1101315  0.10289292 0.10276769 0.10807765 0.10810269\n",
            " 0.11060739 0.11684408 0.12781465 0.13452724 0.13570445 0.13668128\n",
            " 0.13800877 0.12515967 0.13375078 0.14642455 0.14509706 0.14256731\n",
            " 0.1377583  0.14647464 0.16115216 0.17092048 0.16961803 0.181866\n",
            " 0.17257358 0.16904195 0.18149029 0.16385723 0.16105197 0.15757044\n",
            " 0.16568566 0.17232311 0.17392611 0.18407013 0.18146525 0.18169067\n",
            " 0.17873513 0.17715717 0.18827802 0.18249217 0.17051972 0.16320601\n",
            " 0.16363181 0.18019597 0.17807208 0.17694819 0.17662476 0.17681913\n",
            " 0.17730874 0.17795525 0.17868577 0.17946747]\n",
            "9 day output [[0.18028806]]\n",
            "10 day input [0.11438948 0.11724483 0.11887289 0.12485911 0.12090169 0.11829681\n",
            " 0.10552286 0.10697558 0.10339386 0.10567314 0.10507201 0.09823419\n",
            " 0.09041954 0.09164684 0.0977082  0.10016281 0.10038823 0.09650595\n",
            " 0.0878397  0.09014402 0.08681277 0.08969317 0.08090169 0.08583594\n",
            " 0.08806512 0.09129618 0.09031935 0.09009393 0.08683782 0.085335\n",
            " 0.09247339 0.09517846 0.09946149 0.10499687 0.10624922 0.10680025\n",
            " 0.10482154 0.10469631 0.1063995  0.10522229 0.11453976 0.10760175\n",
            " 0.10549781 0.10815279 0.11183469 0.1105072  0.1113087  0.10920476\n",
            " 0.1101315  0.10289292 0.10276769 0.10807765 0.10810269 0.11060739\n",
            " 0.11684408 0.12781465 0.13452724 0.13570445 0.13668128 0.13800877\n",
            " 0.12515967 0.13375078 0.14642455 0.14509706 0.14256731 0.1377583\n",
            " 0.14647464 0.16115216 0.17092048 0.16961803 0.181866   0.17257358\n",
            " 0.16904195 0.18149029 0.16385723 0.16105197 0.15757044 0.16568566\n",
            " 0.17232311 0.17392611 0.18407013 0.18146525 0.18169067 0.17873513\n",
            " 0.17715717 0.18827802 0.18249217 0.17051972 0.16320601 0.16363181\n",
            " 0.18019597 0.17807208 0.17694819 0.17662476 0.17681913 0.17730874\n",
            " 0.17795525 0.17868577 0.17946747 0.18028806]\n",
            "10 day output [[0.18114337]]\n",
            "11 day input [0.11724483 0.11887289 0.12485911 0.12090169 0.11829681 0.10552286\n",
            " 0.10697558 0.10339386 0.10567314 0.10507201 0.09823419 0.09041954\n",
            " 0.09164684 0.0977082  0.10016281 0.10038823 0.09650595 0.0878397\n",
            " 0.09014402 0.08681277 0.08969317 0.08090169 0.08583594 0.08806512\n",
            " 0.09129618 0.09031935 0.09009393 0.08683782 0.085335   0.09247339\n",
            " 0.09517846 0.09946149 0.10499687 0.10624922 0.10680025 0.10482154\n",
            " 0.10469631 0.1063995  0.10522229 0.11453976 0.10760175 0.10549781\n",
            " 0.10815279 0.11183469 0.1105072  0.1113087  0.10920476 0.1101315\n",
            " 0.10289292 0.10276769 0.10807765 0.10810269 0.11060739 0.11684408\n",
            " 0.12781465 0.13452724 0.13570445 0.13668128 0.13800877 0.12515967\n",
            " 0.13375078 0.14642455 0.14509706 0.14256731 0.1377583  0.14647464\n",
            " 0.16115216 0.17092048 0.16961803 0.181866   0.17257358 0.16904195\n",
            " 0.18149029 0.16385723 0.16105197 0.15757044 0.16568566 0.17232311\n",
            " 0.17392611 0.18407013 0.18146525 0.18169067 0.17873513 0.17715717\n",
            " 0.18827802 0.18249217 0.17051972 0.16320601 0.16363181 0.18019597\n",
            " 0.17807208 0.17694819 0.17662476 0.17681913 0.17730874 0.17795525\n",
            " 0.17868577 0.17946747 0.18028806 0.18114337]\n",
            "11 day output [[0.18203178]]\n",
            "12 day input [0.11887289 0.12485911 0.12090169 0.11829681 0.10552286 0.10697558\n",
            " 0.10339386 0.10567314 0.10507201 0.09823419 0.09041954 0.09164684\n",
            " 0.0977082  0.10016281 0.10038823 0.09650595 0.0878397  0.09014402\n",
            " 0.08681277 0.08969317 0.08090169 0.08583594 0.08806512 0.09129618\n",
            " 0.09031935 0.09009393 0.08683782 0.085335   0.09247339 0.09517846\n",
            " 0.09946149 0.10499687 0.10624922 0.10680025 0.10482154 0.10469631\n",
            " 0.1063995  0.10522229 0.11453976 0.10760175 0.10549781 0.10815279\n",
            " 0.11183469 0.1105072  0.1113087  0.10920476 0.1101315  0.10289292\n",
            " 0.10276769 0.10807765 0.10810269 0.11060739 0.11684408 0.12781465\n",
            " 0.13452724 0.13570445 0.13668128 0.13800877 0.12515967 0.13375078\n",
            " 0.14642455 0.14509706 0.14256731 0.1377583  0.14647464 0.16115216\n",
            " 0.17092048 0.16961803 0.181866   0.17257358 0.16904195 0.18149029\n",
            " 0.16385723 0.16105197 0.15757044 0.16568566 0.17232311 0.17392611\n",
            " 0.18407013 0.18146525 0.18169067 0.17873513 0.17715717 0.18827802\n",
            " 0.18249217 0.17051972 0.16320601 0.16363181 0.18019597 0.17807208\n",
            " 0.17694819 0.17662476 0.17681913 0.17730874 0.17795525 0.17868577\n",
            " 0.17946747 0.18028806 0.18114337 0.18203178]\n",
            "12 day output [[0.18295175]]\n",
            "13 day input [0.12485911 0.12090169 0.11829681 0.10552286 0.10697558 0.10339386\n",
            " 0.10567314 0.10507201 0.09823419 0.09041954 0.09164684 0.0977082\n",
            " 0.10016281 0.10038823 0.09650595 0.0878397  0.09014402 0.08681277\n",
            " 0.08969317 0.08090169 0.08583594 0.08806512 0.09129618 0.09031935\n",
            " 0.09009393 0.08683782 0.085335   0.09247339 0.09517846 0.09946149\n",
            " 0.10499687 0.10624922 0.10680025 0.10482154 0.10469631 0.1063995\n",
            " 0.10522229 0.11453976 0.10760175 0.10549781 0.10815279 0.11183469\n",
            " 0.1105072  0.1113087  0.10920476 0.1101315  0.10289292 0.10276769\n",
            " 0.10807765 0.10810269 0.11060739 0.11684408 0.12781465 0.13452724\n",
            " 0.13570445 0.13668128 0.13800877 0.12515967 0.13375078 0.14642455\n",
            " 0.14509706 0.14256731 0.1377583  0.14647464 0.16115216 0.17092048\n",
            " 0.16961803 0.181866   0.17257358 0.16904195 0.18149029 0.16385723\n",
            " 0.16105197 0.15757044 0.16568566 0.17232311 0.17392611 0.18407013\n",
            " 0.18146525 0.18169067 0.17873513 0.17715717 0.18827802 0.18249217\n",
            " 0.17051972 0.16320601 0.16363181 0.18019597 0.17807208 0.17694819\n",
            " 0.17662476 0.17681913 0.17730874 0.17795525 0.17868577 0.17946747\n",
            " 0.18028806 0.18114337 0.18203178 0.18295175]\n",
            "13 day output [[0.18390079]]\n",
            "14 day input [0.12090169 0.11829681 0.10552286 0.10697558 0.10339386 0.10567314\n",
            " 0.10507201 0.09823419 0.09041954 0.09164684 0.0977082  0.10016281\n",
            " 0.10038823 0.09650595 0.0878397  0.09014402 0.08681277 0.08969317\n",
            " 0.08090169 0.08583594 0.08806512 0.09129618 0.09031935 0.09009393\n",
            " 0.08683782 0.085335   0.09247339 0.09517846 0.09946149 0.10499687\n",
            " 0.10624922 0.10680025 0.10482154 0.10469631 0.1063995  0.10522229\n",
            " 0.11453976 0.10760175 0.10549781 0.10815279 0.11183469 0.1105072\n",
            " 0.1113087  0.10920476 0.1101315  0.10289292 0.10276769 0.10807765\n",
            " 0.10810269 0.11060739 0.11684408 0.12781465 0.13452724 0.13570445\n",
            " 0.13668128 0.13800877 0.12515967 0.13375078 0.14642455 0.14509706\n",
            " 0.14256731 0.1377583  0.14647464 0.16115216 0.17092048 0.16961803\n",
            " 0.181866   0.17257358 0.16904195 0.18149029 0.16385723 0.16105197\n",
            " 0.15757044 0.16568566 0.17232311 0.17392611 0.18407013 0.18146525\n",
            " 0.18169067 0.17873513 0.17715717 0.18827802 0.18249217 0.17051972\n",
            " 0.16320601 0.16363181 0.18019597 0.17807208 0.17694819 0.17662476\n",
            " 0.17681913 0.17730874 0.17795525 0.17868577 0.17946747 0.18028806\n",
            " 0.18114337 0.18203178 0.18295175 0.18390079]\n",
            "14 day output [[0.18487597]]\n",
            "15 day input [0.11829681 0.10552286 0.10697558 0.10339386 0.10567314 0.10507201\n",
            " 0.09823419 0.09041954 0.09164684 0.0977082  0.10016281 0.10038823\n",
            " 0.09650595 0.0878397  0.09014402 0.08681277 0.08969317 0.08090169\n",
            " 0.08583594 0.08806512 0.09129618 0.09031935 0.09009393 0.08683782\n",
            " 0.085335   0.09247339 0.09517846 0.09946149 0.10499687 0.10624922\n",
            " 0.10680025 0.10482154 0.10469631 0.1063995  0.10522229 0.11453976\n",
            " 0.10760175 0.10549781 0.10815279 0.11183469 0.1105072  0.1113087\n",
            " 0.10920476 0.1101315  0.10289292 0.10276769 0.10807765 0.10810269\n",
            " 0.11060739 0.11684408 0.12781465 0.13452724 0.13570445 0.13668128\n",
            " 0.13800877 0.12515967 0.13375078 0.14642455 0.14509706 0.14256731\n",
            " 0.1377583  0.14647464 0.16115216 0.17092048 0.16961803 0.181866\n",
            " 0.17257358 0.16904195 0.18149029 0.16385723 0.16105197 0.15757044\n",
            " 0.16568566 0.17232311 0.17392611 0.18407013 0.18146525 0.18169067\n",
            " 0.17873513 0.17715717 0.18827802 0.18249217 0.17051972 0.16320601\n",
            " 0.16363181 0.18019597 0.17807208 0.17694819 0.17662476 0.17681913\n",
            " 0.17730874 0.17795525 0.17868577 0.17946747 0.18028806 0.18114337\n",
            " 0.18203178 0.18295175 0.18390079 0.18487597]\n",
            "15 day output [[0.18587413]]\n",
            "16 day input [0.10552286 0.10697558 0.10339386 0.10567314 0.10507201 0.09823419\n",
            " 0.09041954 0.09164684 0.0977082  0.10016281 0.10038823 0.09650595\n",
            " 0.0878397  0.09014402 0.08681277 0.08969317 0.08090169 0.08583594\n",
            " 0.08806512 0.09129618 0.09031935 0.09009393 0.08683782 0.085335\n",
            " 0.09247339 0.09517846 0.09946149 0.10499687 0.10624922 0.10680025\n",
            " 0.10482154 0.10469631 0.1063995  0.10522229 0.11453976 0.10760175\n",
            " 0.10549781 0.10815279 0.11183469 0.1105072  0.1113087  0.10920476\n",
            " 0.1101315  0.10289292 0.10276769 0.10807765 0.10810269 0.11060739\n",
            " 0.11684408 0.12781465 0.13452724 0.13570445 0.13668128 0.13800877\n",
            " 0.12515967 0.13375078 0.14642455 0.14509706 0.14256731 0.1377583\n",
            " 0.14647464 0.16115216 0.17092048 0.16961803 0.181866   0.17257358\n",
            " 0.16904195 0.18149029 0.16385723 0.16105197 0.15757044 0.16568566\n",
            " 0.17232311 0.17392611 0.18407013 0.18146525 0.18169067 0.17873513\n",
            " 0.17715717 0.18827802 0.18249217 0.17051972 0.16320601 0.16363181\n",
            " 0.18019597 0.17807208 0.17694819 0.17662476 0.17681913 0.17730874\n",
            " 0.17795525 0.17868577 0.17946747 0.18028806 0.18114337 0.18203178\n",
            " 0.18295175 0.18390079 0.18487597 0.18587413]\n",
            "16 day output [[0.18689188]]\n",
            "17 day input [0.10697558 0.10339386 0.10567314 0.10507201 0.09823419 0.09041954\n",
            " 0.09164684 0.0977082  0.10016281 0.10038823 0.09650595 0.0878397\n",
            " 0.09014402 0.08681277 0.08969317 0.08090169 0.08583594 0.08806512\n",
            " 0.09129618 0.09031935 0.09009393 0.08683782 0.085335   0.09247339\n",
            " 0.09517846 0.09946149 0.10499687 0.10624922 0.10680025 0.10482154\n",
            " 0.10469631 0.1063995  0.10522229 0.11453976 0.10760175 0.10549781\n",
            " 0.10815279 0.11183469 0.1105072  0.1113087  0.10920476 0.1101315\n",
            " 0.10289292 0.10276769 0.10807765 0.10810269 0.11060739 0.11684408\n",
            " 0.12781465 0.13452724 0.13570445 0.13668128 0.13800877 0.12515967\n",
            " 0.13375078 0.14642455 0.14509706 0.14256731 0.1377583  0.14647464\n",
            " 0.16115216 0.17092048 0.16961803 0.181866   0.17257358 0.16904195\n",
            " 0.18149029 0.16385723 0.16105197 0.15757044 0.16568566 0.17232311\n",
            " 0.17392611 0.18407013 0.18146525 0.18169067 0.17873513 0.17715717\n",
            " 0.18827802 0.18249217 0.17051972 0.16320601 0.16363181 0.18019597\n",
            " 0.17807208 0.17694819 0.17662476 0.17681913 0.17730874 0.17795525\n",
            " 0.17868577 0.17946747 0.18028806 0.18114337 0.18203178 0.18295175\n",
            " 0.18390079 0.18487597 0.18587413 0.18689188]\n",
            "17 day output [[0.18792616]]\n",
            "18 day input [0.10339386 0.10567314 0.10507201 0.09823419 0.09041954 0.09164684\n",
            " 0.0977082  0.10016281 0.10038823 0.09650595 0.0878397  0.09014402\n",
            " 0.08681277 0.08969317 0.08090169 0.08583594 0.08806512 0.09129618\n",
            " 0.09031935 0.09009393 0.08683782 0.085335   0.09247339 0.09517846\n",
            " 0.09946149 0.10499687 0.10624922 0.10680025 0.10482154 0.10469631\n",
            " 0.1063995  0.10522229 0.11453976 0.10760175 0.10549781 0.10815279\n",
            " 0.11183469 0.1105072  0.1113087  0.10920476 0.1101315  0.10289292\n",
            " 0.10276769 0.10807765 0.10810269 0.11060739 0.11684408 0.12781465\n",
            " 0.13452724 0.13570445 0.13668128 0.13800877 0.12515967 0.13375078\n",
            " 0.14642455 0.14509706 0.14256731 0.1377583  0.14647464 0.16115216\n",
            " 0.17092048 0.16961803 0.181866   0.17257358 0.16904195 0.18149029\n",
            " 0.16385723 0.16105197 0.15757044 0.16568566 0.17232311 0.17392611\n",
            " 0.18407013 0.18146525 0.18169067 0.17873513 0.17715717 0.18827802\n",
            " 0.18249217 0.17051972 0.16320601 0.16363181 0.18019597 0.17807208\n",
            " 0.17694819 0.17662476 0.17681913 0.17730874 0.17795525 0.17868577\n",
            " 0.17946747 0.18028806 0.18114337 0.18203178 0.18295175 0.18390079\n",
            " 0.18487597 0.18587413 0.18689188 0.18792616]\n",
            "18 day output [[0.188974]]\n",
            "19 day input [0.10567314 0.10507201 0.09823419 0.09041954 0.09164684 0.0977082\n",
            " 0.10016281 0.10038823 0.09650595 0.0878397  0.09014402 0.08681277\n",
            " 0.08969317 0.08090169 0.08583594 0.08806512 0.09129618 0.09031935\n",
            " 0.09009393 0.08683782 0.085335   0.09247339 0.09517846 0.09946149\n",
            " 0.10499687 0.10624922 0.10680025 0.10482154 0.10469631 0.1063995\n",
            " 0.10522229 0.11453976 0.10760175 0.10549781 0.10815279 0.11183469\n",
            " 0.1105072  0.1113087  0.10920476 0.1101315  0.10289292 0.10276769\n",
            " 0.10807765 0.10810269 0.11060739 0.11684408 0.12781465 0.13452724\n",
            " 0.13570445 0.13668128 0.13800877 0.12515967 0.13375078 0.14642455\n",
            " 0.14509706 0.14256731 0.1377583  0.14647464 0.16115216 0.17092048\n",
            " 0.16961803 0.181866   0.17257358 0.16904195 0.18149029 0.16385723\n",
            " 0.16105197 0.15757044 0.16568566 0.17232311 0.17392611 0.18407013\n",
            " 0.18146525 0.18169067 0.17873513 0.17715717 0.18827802 0.18249217\n",
            " 0.17051972 0.16320601 0.16363181 0.18019597 0.17807208 0.17694819\n",
            " 0.17662476 0.17681913 0.17730874 0.17795525 0.17868577 0.17946747\n",
            " 0.18028806 0.18114337 0.18203178 0.18295175 0.18390079 0.18487597\n",
            " 0.18587413 0.18689188 0.18792616 0.18897399]\n",
            "19 day output [[0.19003257]]\n",
            "20 day input [0.10507201 0.09823419 0.09041954 0.09164684 0.0977082  0.10016281\n",
            " 0.10038823 0.09650595 0.0878397  0.09014402 0.08681277 0.08969317\n",
            " 0.08090169 0.08583594 0.08806512 0.09129618 0.09031935 0.09009393\n",
            " 0.08683782 0.085335   0.09247339 0.09517846 0.09946149 0.10499687\n",
            " 0.10624922 0.10680025 0.10482154 0.10469631 0.1063995  0.10522229\n",
            " 0.11453976 0.10760175 0.10549781 0.10815279 0.11183469 0.1105072\n",
            " 0.1113087  0.10920476 0.1101315  0.10289292 0.10276769 0.10807765\n",
            " 0.10810269 0.11060739 0.11684408 0.12781465 0.13452724 0.13570445\n",
            " 0.13668128 0.13800877 0.12515967 0.13375078 0.14642455 0.14509706\n",
            " 0.14256731 0.1377583  0.14647464 0.16115216 0.17092048 0.16961803\n",
            " 0.181866   0.17257358 0.16904195 0.18149029 0.16385723 0.16105197\n",
            " 0.15757044 0.16568566 0.17232311 0.17392611 0.18407013 0.18146525\n",
            " 0.18169067 0.17873513 0.17715717 0.18827802 0.18249217 0.17051972\n",
            " 0.16320601 0.16363181 0.18019597 0.17807208 0.17694819 0.17662476\n",
            " 0.17681913 0.17730874 0.17795525 0.17868577 0.17946747 0.18028806\n",
            " 0.18114337 0.18203178 0.18295175 0.18390079 0.18487597 0.18587413\n",
            " 0.18689188 0.18792616 0.18897399 0.19003257]\n",
            "20 day output [[0.19109946]]\n",
            "21 day input [0.09823419 0.09041954 0.09164684 0.0977082  0.10016281 0.10038823\n",
            " 0.09650595 0.0878397  0.09014402 0.08681277 0.08969317 0.08090169\n",
            " 0.08583594 0.08806512 0.09129618 0.09031935 0.09009393 0.08683782\n",
            " 0.085335   0.09247339 0.09517846 0.09946149 0.10499687 0.10624922\n",
            " 0.10680025 0.10482154 0.10469631 0.1063995  0.10522229 0.11453976\n",
            " 0.10760175 0.10549781 0.10815279 0.11183469 0.1105072  0.1113087\n",
            " 0.10920476 0.1101315  0.10289292 0.10276769 0.10807765 0.10810269\n",
            " 0.11060739 0.11684408 0.12781465 0.13452724 0.13570445 0.13668128\n",
            " 0.13800877 0.12515967 0.13375078 0.14642455 0.14509706 0.14256731\n",
            " 0.1377583  0.14647464 0.16115216 0.17092048 0.16961803 0.181866\n",
            " 0.17257358 0.16904195 0.18149029 0.16385723 0.16105197 0.15757044\n",
            " 0.16568566 0.17232311 0.17392611 0.18407013 0.18146525 0.18169067\n",
            " 0.17873513 0.17715717 0.18827802 0.18249217 0.17051972 0.16320601\n",
            " 0.16363181 0.18019597 0.17807208 0.17694819 0.17662476 0.17681913\n",
            " 0.17730874 0.17795525 0.17868577 0.17946747 0.18028806 0.18114337\n",
            " 0.18203178 0.18295175 0.18390079 0.18487597 0.18587413 0.18689188\n",
            " 0.18792616 0.18897399 0.19003257 0.19109946]\n",
            "21 day output [[0.19217245]]\n",
            "22 day input [0.09041954 0.09164684 0.0977082  0.10016281 0.10038823 0.09650595\n",
            " 0.0878397  0.09014402 0.08681277 0.08969317 0.08090169 0.08583594\n",
            " 0.08806512 0.09129618 0.09031935 0.09009393 0.08683782 0.085335\n",
            " 0.09247339 0.09517846 0.09946149 0.10499687 0.10624922 0.10680025\n",
            " 0.10482154 0.10469631 0.1063995  0.10522229 0.11453976 0.10760175\n",
            " 0.10549781 0.10815279 0.11183469 0.1105072  0.1113087  0.10920476\n",
            " 0.1101315  0.10289292 0.10276769 0.10807765 0.10810269 0.11060739\n",
            " 0.11684408 0.12781465 0.13452724 0.13570445 0.13668128 0.13800877\n",
            " 0.12515967 0.13375078 0.14642455 0.14509706 0.14256731 0.1377583\n",
            " 0.14647464 0.16115216 0.17092048 0.16961803 0.181866   0.17257358\n",
            " 0.16904195 0.18149029 0.16385723 0.16105197 0.15757044 0.16568566\n",
            " 0.17232311 0.17392611 0.18407013 0.18146525 0.18169067 0.17873513\n",
            " 0.17715717 0.18827802 0.18249217 0.17051972 0.16320601 0.16363181\n",
            " 0.18019597 0.17807208 0.17694819 0.17662476 0.17681913 0.17730874\n",
            " 0.17795525 0.17868577 0.17946747 0.18028806 0.18114337 0.18203178\n",
            " 0.18295175 0.18390079 0.18487597 0.18587413 0.18689188 0.18792616\n",
            " 0.18897399 0.19003257 0.19109946 0.19217245]\n",
            "22 day output [[0.19324954]]\n",
            "23 day input [0.09164684 0.0977082  0.10016281 0.10038823 0.09650595 0.0878397\n",
            " 0.09014402 0.08681277 0.08969317 0.08090169 0.08583594 0.08806512\n",
            " 0.09129618 0.09031935 0.09009393 0.08683782 0.085335   0.09247339\n",
            " 0.09517846 0.09946149 0.10499687 0.10624922 0.10680025 0.10482154\n",
            " 0.10469631 0.1063995  0.10522229 0.11453976 0.10760175 0.10549781\n",
            " 0.10815279 0.11183469 0.1105072  0.1113087  0.10920476 0.1101315\n",
            " 0.10289292 0.10276769 0.10807765 0.10810269 0.11060739 0.11684408\n",
            " 0.12781465 0.13452724 0.13570445 0.13668128 0.13800877 0.12515967\n",
            " 0.13375078 0.14642455 0.14509706 0.14256731 0.1377583  0.14647464\n",
            " 0.16115216 0.17092048 0.16961803 0.181866   0.17257358 0.16904195\n",
            " 0.18149029 0.16385723 0.16105197 0.15757044 0.16568566 0.17232311\n",
            " 0.17392611 0.18407013 0.18146525 0.18169067 0.17873513 0.17715717\n",
            " 0.18827802 0.18249217 0.17051972 0.16320601 0.16363181 0.18019597\n",
            " 0.17807208 0.17694819 0.17662476 0.17681913 0.17730874 0.17795525\n",
            " 0.17868577 0.17946747 0.18028806 0.18114337 0.18203178 0.18295175\n",
            " 0.18390079 0.18487597 0.18587413 0.18689188 0.18792616 0.18897399\n",
            " 0.19003257 0.19109946 0.19217245 0.19324954]\n",
            "23 day output [[0.19432901]]\n",
            "24 day input [0.0977082  0.10016281 0.10038823 0.09650595 0.0878397  0.09014402\n",
            " 0.08681277 0.08969317 0.08090169 0.08583594 0.08806512 0.09129618\n",
            " 0.09031935 0.09009393 0.08683782 0.085335   0.09247339 0.09517846\n",
            " 0.09946149 0.10499687 0.10624922 0.10680025 0.10482154 0.10469631\n",
            " 0.1063995  0.10522229 0.11453976 0.10760175 0.10549781 0.10815279\n",
            " 0.11183469 0.1105072  0.1113087  0.10920476 0.1101315  0.10289292\n",
            " 0.10276769 0.10807765 0.10810269 0.11060739 0.11684408 0.12781465\n",
            " 0.13452724 0.13570445 0.13668128 0.13800877 0.12515967 0.13375078\n",
            " 0.14642455 0.14509706 0.14256731 0.1377583  0.14647464 0.16115216\n",
            " 0.17092048 0.16961803 0.181866   0.17257358 0.16904195 0.18149029\n",
            " 0.16385723 0.16105197 0.15757044 0.16568566 0.17232311 0.17392611\n",
            " 0.18407013 0.18146525 0.18169067 0.17873513 0.17715717 0.18827802\n",
            " 0.18249217 0.17051972 0.16320601 0.16363181 0.18019597 0.17807208\n",
            " 0.17694819 0.17662476 0.17681913 0.17730874 0.17795525 0.17868577\n",
            " 0.17946747 0.18028806 0.18114337 0.18203178 0.18295175 0.18390079\n",
            " 0.18487597 0.18587413 0.18689188 0.18792616 0.18897399 0.19003257\n",
            " 0.19109946 0.19217245 0.19324954 0.19432901]\n",
            "24 day output [[0.19540916]]\n",
            "25 day input [0.10016281 0.10038823 0.09650595 0.0878397  0.09014402 0.08681277\n",
            " 0.08969317 0.08090169 0.08583594 0.08806512 0.09129618 0.09031935\n",
            " 0.09009393 0.08683782 0.085335   0.09247339 0.09517846 0.09946149\n",
            " 0.10499687 0.10624922 0.10680025 0.10482154 0.10469631 0.1063995\n",
            " 0.10522229 0.11453976 0.10760175 0.10549781 0.10815279 0.11183469\n",
            " 0.1105072  0.1113087  0.10920476 0.1101315  0.10289292 0.10276769\n",
            " 0.10807765 0.10810269 0.11060739 0.11684408 0.12781465 0.13452724\n",
            " 0.13570445 0.13668128 0.13800877 0.12515967 0.13375078 0.14642455\n",
            " 0.14509706 0.14256731 0.1377583  0.14647464 0.16115216 0.17092048\n",
            " 0.16961803 0.181866   0.17257358 0.16904195 0.18149029 0.16385723\n",
            " 0.16105197 0.15757044 0.16568566 0.17232311 0.17392611 0.18407013\n",
            " 0.18146525 0.18169067 0.17873513 0.17715717 0.18827802 0.18249217\n",
            " 0.17051972 0.16320601 0.16363181 0.18019597 0.17807208 0.17694819\n",
            " 0.17662476 0.17681913 0.17730874 0.17795525 0.17868577 0.17946747\n",
            " 0.18028806 0.18114337 0.18203178 0.18295175 0.18390079 0.18487597\n",
            " 0.18587413 0.18689188 0.18792616 0.18897399 0.19003257 0.19109946\n",
            " 0.19217245 0.19324954 0.19432901 0.19540916]\n",
            "25 day output [[0.19648875]]\n",
            "26 day input [0.10038823 0.09650595 0.0878397  0.09014402 0.08681277 0.08969317\n",
            " 0.08090169 0.08583594 0.08806512 0.09129618 0.09031935 0.09009393\n",
            " 0.08683782 0.085335   0.09247339 0.09517846 0.09946149 0.10499687\n",
            " 0.10624922 0.10680025 0.10482154 0.10469631 0.1063995  0.10522229\n",
            " 0.11453976 0.10760175 0.10549781 0.10815279 0.11183469 0.1105072\n",
            " 0.1113087  0.10920476 0.1101315  0.10289292 0.10276769 0.10807765\n",
            " 0.10810269 0.11060739 0.11684408 0.12781465 0.13452724 0.13570445\n",
            " 0.13668128 0.13800877 0.12515967 0.13375078 0.14642455 0.14509706\n",
            " 0.14256731 0.1377583  0.14647464 0.16115216 0.17092048 0.16961803\n",
            " 0.181866   0.17257358 0.16904195 0.18149029 0.16385723 0.16105197\n",
            " 0.15757044 0.16568566 0.17232311 0.17392611 0.18407013 0.18146525\n",
            " 0.18169067 0.17873513 0.17715717 0.18827802 0.18249217 0.17051972\n",
            " 0.16320601 0.16363181 0.18019597 0.17807208 0.17694819 0.17662476\n",
            " 0.17681913 0.17730874 0.17795525 0.17868577 0.17946747 0.18028806\n",
            " 0.18114337 0.18203178 0.18295175 0.18390079 0.18487597 0.18587413\n",
            " 0.18689188 0.18792616 0.18897399 0.19003257 0.19109946 0.19217245\n",
            " 0.19324954 0.19432901 0.19540916 0.19648875]\n",
            "26 day output [[0.19756655]]\n",
            "27 day input [0.09650595 0.0878397  0.09014402 0.08681277 0.08969317 0.08090169\n",
            " 0.08583594 0.08806512 0.09129618 0.09031935 0.09009393 0.08683782\n",
            " 0.085335   0.09247339 0.09517846 0.09946149 0.10499687 0.10624922\n",
            " 0.10680025 0.10482154 0.10469631 0.1063995  0.10522229 0.11453976\n",
            " 0.10760175 0.10549781 0.10815279 0.11183469 0.1105072  0.1113087\n",
            " 0.10920476 0.1101315  0.10289292 0.10276769 0.10807765 0.10810269\n",
            " 0.11060739 0.11684408 0.12781465 0.13452724 0.13570445 0.13668128\n",
            " 0.13800877 0.12515967 0.13375078 0.14642455 0.14509706 0.14256731\n",
            " 0.1377583  0.14647464 0.16115216 0.17092048 0.16961803 0.181866\n",
            " 0.17257358 0.16904195 0.18149029 0.16385723 0.16105197 0.15757044\n",
            " 0.16568566 0.17232311 0.17392611 0.18407013 0.18146525 0.18169067\n",
            " 0.17873513 0.17715717 0.18827802 0.18249217 0.17051972 0.16320601\n",
            " 0.16363181 0.18019597 0.17807208 0.17694819 0.17662476 0.17681913\n",
            " 0.17730874 0.17795525 0.17868577 0.17946747 0.18028806 0.18114337\n",
            " 0.18203178 0.18295175 0.18390079 0.18487597 0.18587413 0.18689188\n",
            " 0.18792616 0.18897399 0.19003257 0.19109946 0.19217245 0.19324954\n",
            " 0.19432901 0.19540916 0.19648875 0.19756655]\n",
            "27 day output [[0.19864157]]\n",
            "28 day input [0.0878397  0.09014402 0.08681277 0.08969317 0.08090169 0.08583594\n",
            " 0.08806512 0.09129618 0.09031935 0.09009393 0.08683782 0.085335\n",
            " 0.09247339 0.09517846 0.09946149 0.10499687 0.10624922 0.10680025\n",
            " 0.10482154 0.10469631 0.1063995  0.10522229 0.11453976 0.10760175\n",
            " 0.10549781 0.10815279 0.11183469 0.1105072  0.1113087  0.10920476\n",
            " 0.1101315  0.10289292 0.10276769 0.10807765 0.10810269 0.11060739\n",
            " 0.11684408 0.12781465 0.13452724 0.13570445 0.13668128 0.13800877\n",
            " 0.12515967 0.13375078 0.14642455 0.14509706 0.14256731 0.1377583\n",
            " 0.14647464 0.16115216 0.17092048 0.16961803 0.181866   0.17257358\n",
            " 0.16904195 0.18149029 0.16385723 0.16105197 0.15757044 0.16568566\n",
            " 0.17232311 0.17392611 0.18407013 0.18146525 0.18169067 0.17873513\n",
            " 0.17715717 0.18827802 0.18249217 0.17051972 0.16320601 0.16363181\n",
            " 0.18019597 0.17807208 0.17694819 0.17662476 0.17681913 0.17730874\n",
            " 0.17795525 0.17868577 0.17946747 0.18028806 0.18114337 0.18203178\n",
            " 0.18295175 0.18390079 0.18487597 0.18587413 0.18689188 0.18792616\n",
            " 0.18897399 0.19003257 0.19109946 0.19217245 0.19324954 0.19432901\n",
            " 0.19540916 0.19648875 0.19756655 0.19864157]\n",
            "28 day output [[0.19971293]]\n",
            "29 day input [0.09014402 0.08681277 0.08969317 0.08090169 0.08583594 0.08806512\n",
            " 0.09129618 0.09031935 0.09009393 0.08683782 0.085335   0.09247339\n",
            " 0.09517846 0.09946149 0.10499687 0.10624922 0.10680025 0.10482154\n",
            " 0.10469631 0.1063995  0.10522229 0.11453976 0.10760175 0.10549781\n",
            " 0.10815279 0.11183469 0.1105072  0.1113087  0.10920476 0.1101315\n",
            " 0.10289292 0.10276769 0.10807765 0.10810269 0.11060739 0.11684408\n",
            " 0.12781465 0.13452724 0.13570445 0.13668128 0.13800877 0.12515967\n",
            " 0.13375078 0.14642455 0.14509706 0.14256731 0.1377583  0.14647464\n",
            " 0.16115216 0.17092048 0.16961803 0.181866   0.17257358 0.16904195\n",
            " 0.18149029 0.16385723 0.16105197 0.15757044 0.16568566 0.17232311\n",
            " 0.17392611 0.18407013 0.18146525 0.18169067 0.17873513 0.17715717\n",
            " 0.18827802 0.18249217 0.17051972 0.16320601 0.16363181 0.18019597\n",
            " 0.17807208 0.17694819 0.17662476 0.17681913 0.17730874 0.17795525\n",
            " 0.17868577 0.17946747 0.18028806 0.18114337 0.18203178 0.18295175\n",
            " 0.18390079 0.18487597 0.18587413 0.18689188 0.18792616 0.18897399\n",
            " 0.19003257 0.19109946 0.19217245 0.19324954 0.19432901 0.19540916\n",
            " 0.19648875 0.19756655 0.19864157 0.19971293]\n",
            "29 day output [[0.20077996]]\n",
            "[[0.18019597232341766], [0.17807208001613617], [0.1769481897354126], [0.17662476003170013], [0.17681913077831268], [0.17730873823165894], [0.1779552549123764], [0.1786857694387436], [0.17946746945381165], [0.18028806149959564], [0.1811433732509613], [0.1820317804813385], [0.18295174837112427], [0.18390078842639923], [0.1848759651184082], [0.18587413430213928], [0.18689188361167908], [0.18792615830898285], [0.18897399306297302], [0.19003257155418396], [0.19109946489334106], [0.19217245280742645], [0.19324953854084015], [0.19432900846004486], [0.1954091638326645], [0.19648875296115875], [0.19756655395030975], [0.1986415684223175], [0.19971293210983276], [0.2007799595594406]]\n"
          ]
        }
      ]
    },
    {
      "cell_type": "code",
      "source": [
        "day_new=np.arange(1,101)\n",
        "day_pred=np.arange(101,131)"
      ],
      "metadata": {
        "id": "sL-kOFc4lsHc"
      },
      "execution_count": 39,
      "outputs": []
    },
    {
      "cell_type": "code",
      "source": [
        "import matplotlib.pyplot as plt"
      ],
      "metadata": {
        "id": "HP6C0ciBl11E"
      },
      "execution_count": 40,
      "outputs": []
    },
    {
      "cell_type": "code",
      "source": [
        "plt.plot(day_new,scaler.inverse_transform(df1[1158:]))\n",
        "plt.plot(day_pred,scaler.inverse_transform(lst_output))"
      ],
      "metadata": {
        "colab": {
          "base_uri": "https://localhost:8080/",
          "height": 283
        },
        "id": "Tv4wi8cJl3gK",
        "outputId": "c4a34fd9-adc2-4526-ea22-6f74836c27d4"
      },
      "execution_count": 41,
      "outputs": [
        {
          "output_type": "execute_result",
          "data": {
            "text/plain": [
              "[<matplotlib.lines.Line2D at 0x7f9d3545ca90>]"
            ]
          },
          "metadata": {},
          "execution_count": 41
        },
        {
          "output_type": "display_data",
          "data": {
            "image/png": "[encoded data removed]",
            "text/plain": [
              "<Figure size 432x288 with 1 Axes>"
            ]
          },
          "metadata": {
            "needs_background": "light"
          }
        }
      ]
    },
    {
      "cell_type": "code",
      "source": [
        "df3=df1.tolist()\n",
        "df3.extend(lst_output)\n",
        "plt.plot(df3[1200:])"
      ],
      "metadata": {
        "colab": {
          "base_uri": "https://localhost:8080/",
          "height": 283
        },
        "id": "vFI04wP4l7Q7",
        "outputId": "6f3990c7-fccb-4d24-97c5-b0cbafd76819"
      },
      "execution_count": 42,
      "outputs": [
        {
          "output_type": "execute_result",
          "data": {
            "text/plain": [
              "[<matplotlib.lines.Line2D at 0x7f9d3539f990>]"
            ]
          },
          "metadata": {},
          "execution_count": 42
        },
        {
          "output_type": "display_data",
          "data": {
            "image/png": "[encoded data removed]",
            "text/plain": [
              "<Figure size 432x288 with 1 Axes>"
            ]
          },
          "metadata": {
            "needs_background": "light"
          }
        }
      ]
    },
    {
      "cell_type": "code",
      "source": [
        "df3=scaler.inverse_transform(df3).tolist()"
      ],
      "metadata": {
        "id": "Lei-4nQVl_V9"
      },
      "execution_count": 43,
      "outputs": []
    },
    {
      "cell_type": "code",
      "source": [
        "plt.plot(df3)"
      ],
      "metadata": {
        "colab": {
          "base_uri": "https://localhost:8080/",
          "height": 283
        },
        "id": "qQeE_qUFmEy3",
        "outputId": "7a73ccfb-397c-42f5-fa1e-d784b953e01d"
      },
      "execution_count": 44,
      "outputs": [
        {
          "output_type": "execute_result",
          "data": {
            "text/plain": [
              "[<matplotlib.lines.Line2D at 0x7f9d3542ac10>]"
            ]
          },
          "metadata": {},
          "execution_count": 44
        },
        {
          "output_type": "display_data",
          "data": {
            "image/png": "[encoded data removed]",
            "text/plain": [
              "<Figure size 432x288 with 1 Axes>"
            ]
          },
          "metadata": {
            "needs_background": "light"
          }
        }
      ]
    },
    {
      "cell_type": "code",
      "source": [
        ""
      ],
      "metadata": {
        "id": "_MSQKDOEmGmr"
      },
      "execution_count": null,
      "outputs": []
    }
  ]
}